{
 "cells": [
  {
   "cell_type": "code",
   "execution_count": 22,
   "id": "4eae100a",
   "metadata": {},
   "outputs": [],
   "source": [
    "import os\n",
    "import sys\n",
    "import torch\n",
    "from glob import glob\n",
    "from os.path import join, isfile, isdir, splitext, basename\n",
    "import numpy as np\n",
    "import pandas as pd\n",
    "import matplotlib.pyplot as plt\n",
    "\n",
    "from sklearn.model_selection import  KFold\n",
    "\n",
    "from ultralytics import YOLO\n",
    "from joblib import Parallel, delayed\n",
    "from tqdm.notebook import tqdm"
   ]
  },
  {
   "cell_type": "code",
   "execution_count": 23,
   "id": "5742ac4a",
   "metadata": {},
   "outputs": [],
   "source": [
    "label_map = {\"CFCBK\": 0, \"FCBK\": 1, \"Zigzag\": 2}"
   ]
  },
  {
   "cell_type": "code",
   "execution_count": 24,
   "id": "94772d77",
   "metadata": {},
   "outputs": [],
   "source": [
    "name=\"wb_small_airshed\"\n",
    "tasks=['obb_labels','aa_labels']\n",
    "basepath=\"/home/rishabh.mondal/Brick-Kilns-project/ijcai_2025_kilns/data/processed_data\"\n",
    "satellite_type=\"sentinel\""
   ]
  },
  {
   "cell_type": "code",
   "execution_count": 25,
   "id": "d92348ac",
   "metadata": {},
   "outputs": [
    {
     "name": "stdout",
     "output_type": "stream",
     "text": [
      "Fold 0 Task obb_labels\n",
      "Label dir /home/rishabh.mondal/Brick-Kilns-project/ijcai_2025_kilns/data/processed_data/sentinel/wb_small_airshed/obb_labels\n",
      "Image dir /home/rishabh.mondal/Brick-Kilns-project/ijcai_2025_kilns/data/processed_data/sentinel/wb_small_airshed/rgb\n",
      "Removed existing folder: /home/rishabh.mondal/Brick-Kilns-project/ijcai_2025_kilns/data/processed_data/crossval/wb_small_airshed_obb_labels_sentinel\n",
      "Fold 0 Task aa_labels\n",
      "Label dir /home/rishabh.mondal/Brick-Kilns-project/ijcai_2025_kilns/data/processed_data/sentinel/wb_small_airshed/aa_labels\n",
      "Image dir /home/rishabh.mondal/Brick-Kilns-project/ijcai_2025_kilns/data/processed_data/sentinel/wb_small_airshed/rgb\n",
      "Removed existing folder: /home/rishabh.mondal/Brick-Kilns-project/ijcai_2025_kilns/data/processed_data/crossval/wb_small_airshed_aa_labels_sentinel\n",
      "Train images 93\n",
      "Train labels 93\n",
      "Test images 31\n",
      "Test labels 31\n",
      "Fold 1 Task obb_labels\n",
      "Label dir /home/rishabh.mondal/Brick-Kilns-project/ijcai_2025_kilns/data/processed_data/sentinel/wb_small_airshed/obb_labels\n",
      "Image dir /home/rishabh.mondal/Brick-Kilns-project/ijcai_2025_kilns/data/processed_data/sentinel/wb_small_airshed/rgb\n",
      "Fold 1 Task aa_labels\n",
      "Label dir /home/rishabh.mondal/Brick-Kilns-project/ijcai_2025_kilns/data/processed_data/sentinel/wb_small_airshed/aa_labels\n",
      "Image dir /home/rishabh.mondal/Brick-Kilns-project/ijcai_2025_kilns/data/processed_data/sentinel/wb_small_airshed/rgb\n",
      "Train images 93\n",
      "Train labels 93\n",
      "Test images 31\n",
      "Test labels 31\n",
      "Fold 2 Task obb_labels\n",
      "Label dir /home/rishabh.mondal/Brick-Kilns-project/ijcai_2025_kilns/data/processed_data/sentinel/wb_small_airshed/obb_labels\n",
      "Image dir /home/rishabh.mondal/Brick-Kilns-project/ijcai_2025_kilns/data/processed_data/sentinel/wb_small_airshed/rgb\n",
      "Fold 2 Task aa_labels\n",
      "Label dir /home/rishabh.mondal/Brick-Kilns-project/ijcai_2025_kilns/data/processed_data/sentinel/wb_small_airshed/aa_labels\n",
      "Image dir /home/rishabh.mondal/Brick-Kilns-project/ijcai_2025_kilns/data/processed_data/sentinel/wb_small_airshed/rgb\n",
      "Train images 93\n",
      "Train labels 93\n",
      "Test images 31\n",
      "Test labels 31\n",
      "Fold 3 Task obb_labels\n",
      "Label dir /home/rishabh.mondal/Brick-Kilns-project/ijcai_2025_kilns/data/processed_data/sentinel/wb_small_airshed/obb_labels\n",
      "Image dir /home/rishabh.mondal/Brick-Kilns-project/ijcai_2025_kilns/data/processed_data/sentinel/wb_small_airshed/rgb\n",
      "Fold 3 Task aa_labels\n",
      "Label dir /home/rishabh.mondal/Brick-Kilns-project/ijcai_2025_kilns/data/processed_data/sentinel/wb_small_airshed/aa_labels\n",
      "Image dir /home/rishabh.mondal/Brick-Kilns-project/ijcai_2025_kilns/data/processed_data/sentinel/wb_small_airshed/rgb\n",
      "Train images 93\n",
      "Train labels 93\n",
      "Test images 31\n",
      "Test labels 31\n"
     ]
    }
   ],
   "source": [
    "\n",
    "\n",
    "\n",
    "\n",
    "file_names = []\n",
    "for task in tasks:\n",
    "    data_dir = join(basepath, satellite_type, f\"{name}\", f\"{task}\")\n",
    "    file_names.append(\n",
    "        np.array(\n",
    "            list(map(lambda x: basename(x), sorted(glob(join(data_dir, \"*.txt\")))))\n",
    "        )\n",
    "    )\n",
    "\n",
    "first_task_files = file_names[0]\n",
    "for files in file_names:\n",
    "    assert np.all(first_task_files == files), \"Files are not same across tasks\"\n",
    "\n",
    "final_len = len(first_task_files)\n",
    "\n",
    "kf = KFold(n_splits=4, random_state=0, shuffle=True)\n",
    "\n",
    "for fold_id, (train_idx, test_idx) in enumerate(kf.split(np.arange(final_len))):\n",
    "    fold_id = str(fold_id)\n",
    "    train_files = first_task_files[train_idx]\n",
    "    test_files = first_task_files[test_idx]\n",
    "\n",
    "    for task in tasks:\n",
    "        print(\"Fold\", fold_id, \"Task\", task)\n",
    "        label_dir = join(basepath, satellite_type, f\"{name}\", task)\n",
    "        image_dir = join(basepath, satellite_type, f\"{name}\", \"rgb\")  # Assuming images live here\n",
    "        print(\"Label dir\", label_dir)\n",
    "        print(\"Image dir\", image_dir)\n",
    "        save_dir = join(basepath, \"crossval\", f\"{name}_{task}_{satellite_type}\")\n",
    "\n",
    "        if fold_id == \"0\":\n",
    "            os.system(f\"rm -rf {save_dir}\")\n",
    "            print(\"Removed existing folder:\", save_dir)\n",
    "\n",
    "        os.makedirs(join(save_dir, fold_id, \"train\", \"images\"), exist_ok=True)\n",
    "        os.makedirs(join(save_dir, fold_id, \"train\", \"labels\"), exist_ok=True)\n",
    "        os.makedirs(join(save_dir, fold_id, \"test\", \"images\"), exist_ok=True)\n",
    "        os.makedirs(join(save_dir, fold_id, \"test\", \"labels\"), exist_ok=True)\n",
    "\n",
    "        # Symlinking function\n",
    "        def symlink_files(file_list, split_type):\n",
    "            for fname in file_list:\n",
    "                base = fname.replace(\".txt\", \"\")\n",
    "                label_src = join(label_dir, fname)\n",
    "                image_src = join(image_dir, base + \".png\")\n",
    "\n",
    "                label_dst = join(save_dir, fold_id, split_type, \"labels\", fname)\n",
    "                image_dst = join(save_dir, fold_id, split_type, \"images\", base + \".png\")\n",
    "\n",
    "                if os.path.exists(label_src) and os.path.exists(image_src):\n",
    "                    os.symlink(label_src, label_dst)\n",
    "                    os.symlink(image_src, image_dst)\n",
    "                else:\n",
    "                    print(f\"[WARN] Missing for {fname}: {label_src}, {image_src}\")\n",
    "\n",
    "        symlink_files(train_files, \"train\")\n",
    "        symlink_files(test_files, \"test\")\n",
    "\n",
    "        # Validation print\n",
    "        train_path = join(save_dir, fold_id, \"train\")\n",
    "        test_path = join(save_dir, fold_id, \"test\")\n",
    "\n",
    "            # write data.yml\n",
    "        with open(join(save_dir, fold_id, \"data.yml\"), \"w\") as f:\n",
    "            f.write(f\"train: {train_path}\\n\")\n",
    "            f.write(f\"val: {test_path}\\n\")\n",
    "            f.write(\"nc: 3\\n\")\n",
    "            f.write(f\"names: {list(label_map)}\\n\")\n",
    "\n",
    "    print(\"Train images\", len(glob(join(train_path, \"images\", \"*.png\"))))\n",
    "    print(\"Train labels\", len(glob(join(train_path, \"labels\", \"*.txt\"))))\n",
    "    print(\"Test images\", len(glob(join(test_path, \"images\", \"*.png\"))))\n",
    "    print(\"Test labels\", len(glob(join(test_path, \"labels\", \"*.txt\"))))\n"
   ]
  },
  {
   "cell_type": "code",
   "execution_count": 26,
   "id": "01835b0b",
   "metadata": {},
   "outputs": [
    {
     "name": "stdout",
     "output_type": "stream",
     "text": [
      "Image mode: RGB\n"
     ]
    }
   ],
   "source": [
    "from PIL import Image\n",
    "\n",
    "# Path to your image\n",
    "img_path = \"/home/rishabh.mondal/Brick-Kilns-project/ijcai_2025_kilns/data/processed_data/sentinel/delhi_airshed/rgb/28.2056_76.8558.png\"\n",
    "\n",
    "# Open and check mode\n",
    "with Image.open(img_path) as img:\n",
    "    print(f\"Image mode: {img.mode}\")  # Will print 'RGB' or 'RGBA'\n"
   ]
  },
  {
   "cell_type": "code",
   "execution_count": null,
   "id": "ce87662e",
   "metadata": {},
   "outputs": [],
   "source": []
  }
 ],
 "metadata": {
  "kernelspec": {
   "display_name": "rishabh_sat",
   "language": "python",
   "name": "python3"
  },
  "language_info": {
   "codemirror_mode": {
    "name": "ipython",
    "version": 3
   },
   "file_extension": ".py",
   "mimetype": "text/x-python",
   "name": "python",
   "nbconvert_exporter": "python",
   "pygments_lexer": "ipython3",
   "version": "3.12.4"
  }
 },
 "nbformat": 4,
 "nbformat_minor": 5
}
