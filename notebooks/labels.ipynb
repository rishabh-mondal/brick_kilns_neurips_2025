{
 "cells": [
  {
   "cell_type": "code",
   "execution_count": 151,
   "id": "5bd36b91",
   "metadata": {},
   "outputs": [
    {
     "name": "stdout",
     "output_type": "stream",
     "text": [
      "Corner 1: lat=21.061852, lon=72.896984\n",
      "Corner 2: lat=21.061852, lon=72.897599\n",
      "Corner 3: lat=21.061286, lon=72.897599\n",
      "Corner 4: lat=21.061286, lon=72.896984\n"
     ]
    }
   ],
   "source": [
    "import numpy as np\n",
    "\n",
    "# Inputs\n",
    "center_lat = 21.0635\n",
    "center_lon = 72.8972\n",
    "img_size = 128\n",
    "gsd = 10  # meters per pixel, adjust if not 10m\n",
    "coords = [0.482447, 0.356692, 0.532411, 0.356692, 0.532411, 0.307417, 0.482447, 0.307417]\n",
    "points = np.array(coords).reshape(4, 2) * img_size\n",
    "\n",
    "latlons = []\n",
    "for x, y in points:\n",
    "    dx = x - img_size / 2\n",
    "    dy = y - img_size / 2\n",
    "    dx_m = dx * gsd\n",
    "    dy_m = dy * gsd\n",
    "    dlat = dy_m / 111320\n",
    "    dlon = dx_m / (111320 * np.cos(np.deg2rad(center_lat)))\n",
    "    lat = center_lat + dlat\n",
    "    lon = center_lon + dlon\n",
    "    latlons.append((lat, lon))\n",
    "\n",
    "for i, (lat, lon) in enumerate(latlons):\n",
    "    print(f\"Corner {i+1}: lat={lat:.6f}, lon={lon:.6f}\")\n"
   ]
  },
  {
   "cell_type": "code",
   "execution_count": 188,
   "id": "1b783ce6",
   "metadata": {},
   "outputs": [
    {
     "name": "stdout",
     "output_type": "stream",
     "text": [
      "total 21100\n"
     ]
    }
   ],
   "source": [
    "import os\n",
    "import numpy as np\n",
    "import geopandas as gpd\n",
    "from shapely.geometry import Polygon\n",
    "\n",
    "def get_latlon_corners(center_lat, center_lon, points, img_size=128, gsd=10):\n",
    "    latlons = []\n",
    "    for x, y in points:\n",
    "        dx = x - img_size / 2\n",
    "        dy = y - img_size / 2\n",
    "        dx_m = dx * gsd\n",
    "        dy_m = dy * gsd\n",
    "        dlat = dy_m / 111320\n",
    "        dlon = dx_m / (111320 * np.cos(np.deg2rad(center_lat)))\n",
    "        lat = center_lat + dlat\n",
    "        lon = center_lon + dlon\n",
    "        latlons.append((lon, lat))\n",
    "    return latlons\n",
    "\n",
    "folder = \"/home/rishabh.mondal/Brick-Kilns-project/ijcai_2025_kilns/data/processed_data/sentinel/final_data_neurips_2025/test/yolo_obb_labels\"\n",
    "data = []\n",
    "\n",
    "for fname in os.listdir(folder):\n",
    "    if fname.endswith('.txt'):\n",
    "        image_name = fname.replace('.txt', '.png')\n",
    "        # Extract lat/lon from filename\n",
    "        lat_str, lon_str = image_name.replace('.png', '').split('_')\n",
    "        center_lat = float(lat_str)\n",
    "        center_lon = float(lon_str)\n",
    "        label_path = os.path.join(folder, fname)\n",
    "        with open(label_path, 'r') as f:\n",
    "            for line in f:\n",
    "                parts = line.strip().split()\n",
    "                if len(parts) != 9:\n",
    "                    continue\n",
    "                class_id = int(parts[0])\n",
    "                coords = list(map(float, parts[1:]))\n",
    "                points = np.array(coords).reshape(4,2) * 128\n",
    "                latlons = get_latlon_corners(center_lat, center_lon, points)\n",
    "                poly = Polygon(latlons)\n",
    "                data.append({\n",
    "                    'image_name': image_name,\n",
    "                    'class': class_id,\n",
    "                    'geometry': poly\n",
    "                })\n",
    "\n",
    "gdf = gpd.GeoDataFrame(data, crs=\"EPSG:4326\")\n",
    "print(\"total\",len(gdf))"
   ]
  },
  {
   "cell_type": "code",
   "execution_count": 189,
   "id": "b801fa1a",
   "metadata": {},
   "outputs": [
    {
     "data": {
      "text/html": [
       "<div>\n",
       "<style scoped>\n",
       "    .dataframe tbody tr th:only-of-type {\n",
       "        vertical-align: middle;\n",
       "    }\n",
       "\n",
       "    .dataframe tbody tr th {\n",
       "        vertical-align: top;\n",
       "    }\n",
       "\n",
       "    .dataframe thead th {\n",
       "        text-align: right;\n",
       "    }\n",
       "</style>\n",
       "<table border=\"1\" class=\"dataframe\">\n",
       "  <thead>\n",
       "    <tr style=\"text-align: right;\">\n",
       "      <th></th>\n",
       "      <th>image_name</th>\n",
       "      <th>class</th>\n",
       "      <th>geometry</th>\n",
       "    </tr>\n",
       "  </thead>\n",
       "  <tbody>\n",
       "    <tr>\n",
       "      <th>0</th>\n",
       "      <td>31.3041_72.9763.png</td>\n",
       "      <td>1</td>\n",
       "      <td>POLYGON ((72.97739 31.30321, 72.97819 31.3025,...</td>\n",
       "    </tr>\n",
       "    <tr>\n",
       "      <th>1</th>\n",
       "      <td>25.5144_82.5985.png</td>\n",
       "      <td>2</td>\n",
       "      <td>POLYGON ((82.59778 25.511, 82.59799 25.5104, 8...</td>\n",
       "    </tr>\n",
       "    <tr>\n",
       "      <th>2</th>\n",
       "      <td>24.3004_88.3018.png</td>\n",
       "      <td>2</td>\n",
       "      <td>POLYGON ((88.29608 24.30285, 88.29632 24.30219...</td>\n",
       "    </tr>\n",
       "    <tr>\n",
       "      <th>3</th>\n",
       "      <td>26.2539_85.2612.png</td>\n",
       "      <td>2</td>\n",
       "      <td>POLYGON ((85.26427 26.25824, 85.26483 26.25824...</td>\n",
       "    </tr>\n",
       "    <tr>\n",
       "      <th>4</th>\n",
       "      <td>29.8292_74.6382.png</td>\n",
       "      <td>2</td>\n",
       "      <td>POLYGON ((74.64022 29.83173, 74.64184 29.83167...</td>\n",
       "    </tr>\n",
       "    <tr>\n",
       "      <th>...</th>\n",
       "      <td>...</td>\n",
       "      <td>...</td>\n",
       "      <td>...</td>\n",
       "    </tr>\n",
       "    <tr>\n",
       "      <th>21095</th>\n",
       "      <td>27.7644_81.4985.png</td>\n",
       "      <td>1</td>\n",
       "      <td>POLYGON ((81.49361 27.76389, 81.49459 27.76338...</td>\n",
       "    </tr>\n",
       "    <tr>\n",
       "      <th>21096</th>\n",
       "      <td>29.6643_77.2661.png</td>\n",
       "      <td>2</td>\n",
       "      <td>POLYGON ((77.27013 29.66882, 77.27055 29.6685,...</td>\n",
       "    </tr>\n",
       "    <tr>\n",
       "      <th>21097</th>\n",
       "      <td>25.9761_88.6232.png</td>\n",
       "      <td>2</td>\n",
       "      <td>POLYGON ((88.62826 25.97504, 88.62855 25.97441...</td>\n",
       "    </tr>\n",
       "    <tr>\n",
       "      <th>21098</th>\n",
       "      <td>27.4379_80.3073.png</td>\n",
       "      <td>1</td>\n",
       "      <td>POLYGON ((80.31166 27.43625, 80.31214 27.4354,...</td>\n",
       "    </tr>\n",
       "    <tr>\n",
       "      <th>21099</th>\n",
       "      <td>27.7556_76.1077.png</td>\n",
       "      <td>1</td>\n",
       "      <td>POLYGON ((76.10835 27.75302, 76.10855 27.75261...</td>\n",
       "    </tr>\n",
       "  </tbody>\n",
       "</table>\n",
       "<p>21100 rows × 3 columns</p>\n",
       "</div>"
      ],
      "text/plain": [
       "                image_name  class  \\\n",
       "0      31.3041_72.9763.png      1   \n",
       "1      25.5144_82.5985.png      2   \n",
       "2      24.3004_88.3018.png      2   \n",
       "3      26.2539_85.2612.png      2   \n",
       "4      29.8292_74.6382.png      2   \n",
       "...                    ...    ...   \n",
       "21095  27.7644_81.4985.png      1   \n",
       "21096  29.6643_77.2661.png      2   \n",
       "21097  25.9761_88.6232.png      2   \n",
       "21098  27.4379_80.3073.png      1   \n",
       "21099  27.7556_76.1077.png      1   \n",
       "\n",
       "                                                geometry  \n",
       "0      POLYGON ((72.97739 31.30321, 72.97819 31.3025,...  \n",
       "1      POLYGON ((82.59778 25.511, 82.59799 25.5104, 8...  \n",
       "2      POLYGON ((88.29608 24.30285, 88.29632 24.30219...  \n",
       "3      POLYGON ((85.26427 26.25824, 85.26483 26.25824...  \n",
       "4      POLYGON ((74.64022 29.83173, 74.64184 29.83167...  \n",
       "...                                                  ...  \n",
       "21095  POLYGON ((81.49361 27.76389, 81.49459 27.76338...  \n",
       "21096  POLYGON ((77.27013 29.66882, 77.27055 29.6685,...  \n",
       "21097  POLYGON ((88.62826 25.97504, 88.62855 25.97441...  \n",
       "21098  POLYGON ((80.31166 27.43625, 80.31214 27.4354,...  \n",
       "21099  POLYGON ((76.10835 27.75302, 76.10855 27.75261...  \n",
       "\n",
       "[21100 rows x 3 columns]"
      ]
     },
     "execution_count": 189,
     "metadata": {},
     "output_type": "execute_result"
    }
   ],
   "source": [
    "gdf"
   ]
  },
  {
   "cell_type": "code",
   "execution_count": 190,
   "id": "5cf776b9",
   "metadata": {},
   "outputs": [
    {
     "name": "stdout",
     "output_type": "stream",
     "text": [
      "Common geometries: 1284\n",
      "Unique geometries: 19816\n"
     ]
    }
   ],
   "source": [
    "import geopandas as gpd\n",
    "\n",
    "gdf = gdf.reset_index(drop=True)\n",
    "sindex = gdf.sindex\n",
    "\n",
    "overlap_idx = set()\n",
    "\n",
    "for idx, geom in enumerate(gdf.geometry):\n",
    "    # Find possible overlapping candidates using bounding box intersection\n",
    "    possible_matches = list(sindex.intersection(geom.bounds))\n",
    "    for other_idx in possible_matches:\n",
    "        if other_idx == idx:\n",
    "            continue\n",
    "        other_geom = gdf.geometry.iloc[other_idx]\n",
    "        if geom.intersects(other_geom):\n",
    "            overlap_idx.add(idx)\n",
    "            overlap_idx.add(other_idx)\n",
    "\n",
    "gdf['group'] = 'unique'\n",
    "gdf.loc[list(overlap_idx), 'group'] = 'common'\n",
    "\n",
    "print(\"Common geometries:\", (gdf['group'] == 'common').sum())\n",
    "print(\"Unique geometries:\", (gdf['group'] == 'unique').sum())\n"
   ]
  },
  {
   "cell_type": "code",
   "execution_count": 200,
   "id": "9978b87a",
   "metadata": {},
   "outputs": [
    {
     "name": "stdout",
     "output_type": "stream",
     "text": [
      "Common geometries (overlap/intersection >10%): 2\n",
      "Unique geometries: 21098\n"
     ]
    }
   ],
   "source": [
    "import geopandas as gpd\n",
    "\n",
    "gdf = gdf.reset_index(drop=True)\n",
    "sindex = gdf.sindex\n",
    "common_idx = set()\n",
    "\n",
    "for idx, geom in enumerate(gdf.geometry):\n",
    "    possible_matches = list(sindex.intersection(geom.bounds))\n",
    "    for other_idx in possible_matches:\n",
    "        if other_idx == idx:\n",
    "            continue\n",
    "        other_geom = gdf.geometry.iloc[other_idx]\n",
    "        if geom.intersects(other_geom):\n",
    "            intersection_area = geom.intersection(other_geom).area\n",
    "            union_area = geom.union(other_geom).area\n",
    "            min_area = min(geom.area, other_geom.area)\n",
    "            # Check for >10% overlap in either metric\n",
    "            if min_area > 0 and intersection_area / min_area > 0.99:\n",
    "                common_idx.add(idx)\n",
    "                common_idx.add(other_idx)\n",
    "            elif union_area > 0 and intersection_area / union_area > 0.99:\n",
    "                common_idx.add(idx)\n",
    "                common_idx.add(other_idx)\n",
    "\n",
    "gdf['group'] = 'unique'\n",
    "gdf.loc[list(common_idx), 'group'] = 'common'\n",
    "\n",
    "print(\"Common geometries (overlap/intersection >10%):\", (gdf['group'] == 'common').sum())\n",
    "print(\"Unique geometries:\", (gdf['group'] == 'unique').sum())\n"
   ]
  },
  {
   "cell_type": "code",
   "execution_count": 164,
   "id": "edaa2471",
   "metadata": {},
   "outputs": [
    {
     "name": "stdout",
     "output_type": "stream",
     "text": [
      "1284 geometries involved\n",
      "19816 geometries not involved\n",
      "\n"
     ]
    }
   ],
   "source": [
    "# For each geometric predicate: 'intersects', 'touches', 'contains', 'within', 'crosses'\n",
    "\n",
    "\n",
    "joined = gpd.sjoin(gdf[['geometry']], gdf[['geometry']], how='inner', predicate=\"intersects\")\n",
    "joined = joined[joined.index != joined['index_right']]\n",
    "idx_set = set(joined.index) | set(joined['index_right'])\n",
    "print(f\"{len(idx_set)} geometries involved\")\n",
    "print(f\"{len(gdf) - len(idx_set)} geometries not involved\\n\")\n",
    "\n"
   ]
  },
  {
   "cell_type": "code",
   "execution_count": 159,
   "id": "b7244205",
   "metadata": {},
   "outputs": [
    {
     "name": "stdout",
     "output_type": "stream",
     "text": [
      "Empty GeoDataFrame\n",
      "Columns: [image_name_left, class_left, geometry, group_left, touch_group_left, index_right, image_name_right, class_right, group_right, touch_group_right]\n",
      "Index: []\n",
      "Touching geometries count: 0\n",
      "Not touching geometries count: 21100\n"
     ]
    }
   ],
   "source": [
    "import geopandas as gpd\n",
    "\n",
    "# Spatial join using 'touches'\n",
    "joined = gpd.sjoin(gdf, gdf, how='inner', predicate='touches')\n",
    "print(joined)\n",
    "# Remove self-joins\n",
    "joined = joined[joined.index != joined['index_right']]\n",
    "\n",
    "# Mark touching polygons\n",
    "touching_idx = set(joined.index) | set(joined['index_right'])\n",
    "gdf['touch_group'] = 'not_touching'\n",
    "gdf.loc[list(touching_idx), 'touch_group'] = 'touching'\n",
    "\n",
    "touching_gdf = gdf[gdf['touch_group'] == 'touching']\n",
    "not_touching_gdf = gdf[gdf['touch_group'] == 'not_touching']\n",
    "\n",
    "print(\"Touching geometries count:\", len(touching_gdf))\n",
    "print(\"Not touching geometries count:\", len(not_touching_gdf))\n"
   ]
  },
  {
   "cell_type": "code",
   "execution_count": 146,
   "id": "77ad2242",
   "metadata": {},
   "outputs": [
    {
     "name": "stdout",
     "output_type": "stream",
     "text": [
      "Class-wise common geometries count:\n",
      "class\n",
      "0     20\n",
      "1    337\n",
      "2    328\n",
      "dtype: int64\n"
     ]
    }
   ],
   "source": [
    "classwise_common = common_gdf.groupby('class').size()\n",
    "print(\"Class-wise common geometries count:\")\n",
    "print(classwise_common)\n"
   ]
  },
  {
   "cell_type": "code",
   "execution_count": 149,
   "id": "caa332cb",
   "metadata": {},
   "outputs": [
    {
     "name": "stdout",
     "output_type": "stream",
     "text": [
      "class count class\n",
      "0     2032\n",
      "1    34292\n",
      "2    27463\n",
      "dtype: int64\n",
      "Unique geometries count: 60596\n",
      "Common geometries count: 3191\n",
      "Class-wise common geometries count:\n",
      "Train set: class\n",
      "0     201\n",
      "1    1597\n",
      "2    1393\n",
      "dtype: int64\n"
     ]
    }
   ],
   "source": [
    "import os\n",
    "import numpy as np\n",
    "import geopandas as gpd\n",
    "from shapely.geometry import Polygon\n",
    "\n",
    "def get_latlon_corners(center_lat, center_lon, points, img_size=128, gsd=10):\n",
    "    latlons = []\n",
    "    for x, y in points:\n",
    "        dx = x - img_size / 2\n",
    "        dy = y - img_size / 2\n",
    "        dx_m = dx * gsd\n",
    "        dy_m = dy * gsd\n",
    "        dlat = dy_m / 111320\n",
    "        dlon = dx_m / (111320 * np.cos(np.deg2rad(center_lat)))\n",
    "        lat = center_lat + dlat\n",
    "        lon = center_lon + dlon\n",
    "        latlons.append((lon, lat))\n",
    "    return latlons\n",
    "\n",
    "folder = \"/home/rishabh.mondal/Brick-Kilns-project/ijcai_2025_kilns/data/processed_data/sentinel/final_data_neurips_2025/train/yolo_obb_labels\"\n",
    "data = []\n",
    "\n",
    "for fname in os.listdir(folder):\n",
    "    if fname.endswith('.txt'):\n",
    "        image_name = fname.replace('.txt', '.png')\n",
    "        lat_str, lon_str = image_name.replace('.png', '').split('_')\n",
    "        center_lat = float(lat_str)\n",
    "        center_lon = float(lon_str)\n",
    "        label_path = os.path.join(folder, fname)\n",
    "        with open(label_path, 'r') as f:\n",
    "            for line in f:\n",
    "                parts = line.strip().split()\n",
    "                if len(parts) != 9:\n",
    "                    continue\n",
    "                class_id = int(parts[0])\n",
    "                coords = list(map(float, parts[1:]))\n",
    "                points = np.array(coords).reshape(4,2) * 128\n",
    "                latlons = get_latlon_corners(center_lat, center_lon, points)\n",
    "                poly = Polygon(latlons)\n",
    "                data.append({\n",
    "                    'image_name': image_name,\n",
    "                    'class': class_id,\n",
    "                    'geometry': poly\n",
    "                })\n",
    "\n",
    "gdf_train = gpd.GeoDataFrame(data, crs=\"EPSG:4326\")\n",
    "print(\"class count\",gdf_train.groupby('class').size())\n",
    "# Spatial join using 'intersects'\n",
    "joined = gpd.sjoin(gdf_train, gdf_train, how='inner', predicate='intersects')\n",
    "\n",
    "# Remove self-joins\n",
    "joined = joined[joined.index != joined['index_right']]\n",
    "\n",
    "# Compute overlap: intersection area / min(poly1.area, poly2.area)\n",
    "def overlap_ratio(row):\n",
    "    poly1 = gdf_train.loc[row.name].geometry\n",
    "    poly2 = gdf_train.loc[row['index_right']].geometry\n",
    "    inter = poly1.intersection(poly2).area\n",
    "    min_area = min(poly1.area, poly2.area)\n",
    "    return inter / min_area if min_area > 0 else 0\n",
    "\n",
    "joined['overlap_ratio'] = joined.apply(overlap_ratio, axis=1)\n",
    "\n",
    "# Find indices of all polygons with >=30% overlap with any other\n",
    "common_idx = set(joined[joined['overlap_ratio'] >= 0.5].index) | set(joined[joined['overlap_ratio'] >= 0.5]['index_right'])\n",
    "gdf_train['group'] = 'unique'\n",
    "gdf_train.loc[list(common_idx), 'group'] = 'common'\n",
    "\n",
    "unique_gdf = gdf_train[gdf_train['group'] == 'unique']\n",
    "common_gdf = gdf_train[gdf_train['group'] == 'common']\n",
    "\n",
    "print(\"Unique geometries count:\", len(unique_gdf))\n",
    "print(\"Common geometries count:\", len(common_gdf))\n",
    "\n",
    "# Class-wise common geometry count\n",
    "classwise_common = common_gdf.groupby('class').size()\n",
    "\n",
    "print(\"Class-wise common geometries count:\")\n",
    "print(\"Train set:\",classwise_common)\n"
   ]
  },
  {
   "cell_type": "code",
   "execution_count": 150,
   "id": "3cc4f712",
   "metadata": {},
   "outputs": [
    {
     "ename": "ValueError",
     "evalue": "Cannot set a DataFrame with multiple columns to the single column overlap_ratio",
     "output_type": "error",
     "traceback": [
      "\u001b[0;31m---------------------------------------------------------------------------\u001b[0m",
      "\u001b[0;31mValueError\u001b[0m                                Traceback (most recent call last)",
      "\u001b[0;32m/tmp/ipykernel_1370097/3690521726.py\u001b[0m in \u001b[0;36m?\u001b[0;34m()\u001b[0m\n\u001b[1;32m     58\u001b[0m     \u001b[0minter\u001b[0m \u001b[0;34m=\u001b[0m \u001b[0mpoly1\u001b[0m\u001b[0;34m.\u001b[0m\u001b[0mintersection\u001b[0m\u001b[0;34m(\u001b[0m\u001b[0mpoly2\u001b[0m\u001b[0;34m)\u001b[0m\u001b[0;34m.\u001b[0m\u001b[0marea\u001b[0m\u001b[0;34m\u001b[0m\u001b[0;34m\u001b[0m\u001b[0m\n\u001b[1;32m     59\u001b[0m     \u001b[0mmin_area\u001b[0m \u001b[0;34m=\u001b[0m \u001b[0mmin\u001b[0m\u001b[0;34m(\u001b[0m\u001b[0mpoly1\u001b[0m\u001b[0;34m.\u001b[0m\u001b[0marea\u001b[0m\u001b[0;34m,\u001b[0m \u001b[0mpoly2\u001b[0m\u001b[0;34m.\u001b[0m\u001b[0marea\u001b[0m\u001b[0;34m)\u001b[0m\u001b[0;34m\u001b[0m\u001b[0;34m\u001b[0m\u001b[0m\n\u001b[1;32m     60\u001b[0m     \u001b[0;32mreturn\u001b[0m \u001b[0minter\u001b[0m \u001b[0;34m/\u001b[0m \u001b[0mmin_area\u001b[0m \u001b[0;32mif\u001b[0m \u001b[0mmin_area\u001b[0m \u001b[0;34m>\u001b[0m \u001b[0;36m0\u001b[0m \u001b[0;32melse\u001b[0m \u001b[0;36m0\u001b[0m\u001b[0;34m\u001b[0m\u001b[0;34m\u001b[0m\u001b[0m\n\u001b[1;32m     61\u001b[0m \u001b[0;34m\u001b[0m\u001b[0m\n\u001b[0;32m---> 62\u001b[0;31m \u001b[0mjoined\u001b[0m\u001b[0;34m[\u001b[0m\u001b[0;34m'overlap_ratio'\u001b[0m\u001b[0;34m]\u001b[0m \u001b[0;34m=\u001b[0m \u001b[0mjoined\u001b[0m\u001b[0;34m.\u001b[0m\u001b[0mapply\u001b[0m\u001b[0;34m(\u001b[0m\u001b[0moverlap_ratio\u001b[0m\u001b[0;34m,\u001b[0m \u001b[0maxis\u001b[0m\u001b[0;34m=\u001b[0m\u001b[0;36m1\u001b[0m\u001b[0;34m)\u001b[0m\u001b[0;34m\u001b[0m\u001b[0;34m\u001b[0m\u001b[0m\n\u001b[0m\u001b[1;32m     63\u001b[0m \u001b[0;34m\u001b[0m\u001b[0m\n\u001b[1;32m     64\u001b[0m \u001b[0;31m# Find indices of all polygons with >=30% overlap with any other\u001b[0m\u001b[0;34m\u001b[0m\u001b[0;34m\u001b[0m\u001b[0m\n\u001b[1;32m     65\u001b[0m \u001b[0mcommon_idx\u001b[0m \u001b[0;34m=\u001b[0m \u001b[0mset\u001b[0m\u001b[0;34m(\u001b[0m\u001b[0mjoined\u001b[0m\u001b[0;34m[\u001b[0m\u001b[0mjoined\u001b[0m\u001b[0;34m[\u001b[0m\u001b[0;34m'overlap_ratio'\u001b[0m\u001b[0;34m]\u001b[0m \u001b[0;34m>=\u001b[0m \u001b[0;36m0.03\u001b[0m\u001b[0;34m]\u001b[0m\u001b[0;34m.\u001b[0m\u001b[0mindex\u001b[0m\u001b[0;34m)\u001b[0m \u001b[0;34m|\u001b[0m \u001b[0mset\u001b[0m\u001b[0;34m(\u001b[0m\u001b[0mjoined\u001b[0m\u001b[0;34m[\u001b[0m\u001b[0mjoined\u001b[0m\u001b[0;34m[\u001b[0m\u001b[0;34m'overlap_ratio'\u001b[0m\u001b[0;34m]\u001b[0m \u001b[0;34m>=\u001b[0m \u001b[0;36m0.3\u001b[0m\u001b[0;34m]\u001b[0m\u001b[0;34m[\u001b[0m\u001b[0;34m'index_right'\u001b[0m\u001b[0;34m]\u001b[0m\u001b[0;34m)\u001b[0m\u001b[0;34m\u001b[0m\u001b[0;34m\u001b[0m\u001b[0m\n",
      "\u001b[0;32m/opt/anaconda3/envs/zeel_py310/lib/python3.10/site-packages/geopandas/geodataframe.py\u001b[0m in \u001b[0;36m?\u001b[0;34m(self, key, value)\u001b[0m\n\u001b[1;32m   1815\u001b[0m                 warnings.warn(\n\u001b[1;32m   1816\u001b[0m                     \u001b[0;34m\"Geometry column does not contain geometry.\"\u001b[0m\u001b[0;34m,\u001b[0m\u001b[0;34m\u001b[0m\u001b[0;34m\u001b[0m\u001b[0m\n\u001b[1;32m   1817\u001b[0m                     \u001b[0mstacklevel\u001b[0m\u001b[0;34m=\u001b[0m\u001b[0;36m2\u001b[0m\u001b[0;34m,\u001b[0m\u001b[0;34m\u001b[0m\u001b[0;34m\u001b[0m\u001b[0m\n\u001b[1;32m   1818\u001b[0m                 )\n\u001b[0;32m-> 1819\u001b[0;31m         \u001b[0msuper\u001b[0m\u001b[0;34m(\u001b[0m\u001b[0;34m)\u001b[0m\u001b[0;34m.\u001b[0m\u001b[0m__setitem__\u001b[0m\u001b[0;34m(\u001b[0m\u001b[0mkey\u001b[0m\u001b[0;34m,\u001b[0m \u001b[0mvalue\u001b[0m\u001b[0;34m)\u001b[0m\u001b[0;34m\u001b[0m\u001b[0;34m\u001b[0m\u001b[0m\n\u001b[0m",
      "\u001b[0;32m/opt/anaconda3/envs/zeel_py310/lib/python3.10/site-packages/pandas/core/frame.py\u001b[0m in \u001b[0;36m?\u001b[0;34m(self, key, value)\u001b[0m\n\u001b[1;32m   4297\u001b[0m             \u001b[0mself\u001b[0m\u001b[0;34m.\u001b[0m\u001b[0m_setitem_frame\u001b[0m\u001b[0;34m(\u001b[0m\u001b[0mkey\u001b[0m\u001b[0;34m,\u001b[0m \u001b[0mvalue\u001b[0m\u001b[0;34m)\u001b[0m\u001b[0;34m\u001b[0m\u001b[0;34m\u001b[0m\u001b[0m\n\u001b[1;32m   4298\u001b[0m         \u001b[0;32melif\u001b[0m \u001b[0misinstance\u001b[0m\u001b[0;34m(\u001b[0m\u001b[0mkey\u001b[0m\u001b[0;34m,\u001b[0m \u001b[0;34m(\u001b[0m\u001b[0mSeries\u001b[0m\u001b[0;34m,\u001b[0m \u001b[0mnp\u001b[0m\u001b[0;34m.\u001b[0m\u001b[0mndarray\u001b[0m\u001b[0;34m,\u001b[0m \u001b[0mlist\u001b[0m\u001b[0;34m,\u001b[0m \u001b[0mIndex\u001b[0m\u001b[0;34m)\u001b[0m\u001b[0;34m)\u001b[0m\u001b[0;34m:\u001b[0m\u001b[0;34m\u001b[0m\u001b[0;34m\u001b[0m\u001b[0m\n\u001b[1;32m   4299\u001b[0m             \u001b[0mself\u001b[0m\u001b[0;34m.\u001b[0m\u001b[0m_setitem_array\u001b[0m\u001b[0;34m(\u001b[0m\u001b[0mkey\u001b[0m\u001b[0;34m,\u001b[0m \u001b[0mvalue\u001b[0m\u001b[0;34m)\u001b[0m\u001b[0;34m\u001b[0m\u001b[0;34m\u001b[0m\u001b[0m\n\u001b[1;32m   4300\u001b[0m         \u001b[0;32melif\u001b[0m \u001b[0misinstance\u001b[0m\u001b[0;34m(\u001b[0m\u001b[0mvalue\u001b[0m\u001b[0;34m,\u001b[0m \u001b[0mDataFrame\u001b[0m\u001b[0;34m)\u001b[0m\u001b[0;34m:\u001b[0m\u001b[0;34m\u001b[0m\u001b[0;34m\u001b[0m\u001b[0m\n\u001b[0;32m-> 4301\u001b[0;31m             \u001b[0mself\u001b[0m\u001b[0;34m.\u001b[0m\u001b[0m_set_item_frame_value\u001b[0m\u001b[0;34m(\u001b[0m\u001b[0mkey\u001b[0m\u001b[0;34m,\u001b[0m \u001b[0mvalue\u001b[0m\u001b[0;34m)\u001b[0m\u001b[0;34m\u001b[0m\u001b[0;34m\u001b[0m\u001b[0m\n\u001b[0m\u001b[1;32m   4302\u001b[0m         elif (\n\u001b[1;32m   4303\u001b[0m             \u001b[0mis_list_like\u001b[0m\u001b[0;34m(\u001b[0m\u001b[0mvalue\u001b[0m\u001b[0;34m)\u001b[0m\u001b[0;34m\u001b[0m\u001b[0;34m\u001b[0m\u001b[0m\n\u001b[1;32m   4304\u001b[0m             \u001b[0;32mand\u001b[0m \u001b[0;32mnot\u001b[0m \u001b[0mself\u001b[0m\u001b[0;34m.\u001b[0m\u001b[0mcolumns\u001b[0m\u001b[0;34m.\u001b[0m\u001b[0mis_unique\u001b[0m\u001b[0;34m\u001b[0m\u001b[0;34m\u001b[0m\u001b[0m\n",
      "\u001b[0;32m/opt/anaconda3/envs/zeel_py310/lib/python3.10/site-packages/pandas/core/frame.py\u001b[0m in \u001b[0;36m?\u001b[0;34m(self, key, value)\u001b[0m\n\u001b[1;32m   4455\u001b[0m \u001b[0;34m\u001b[0m\u001b[0m\n\u001b[1;32m   4456\u001b[0m             \u001b[0;32mreturn\u001b[0m \u001b[0mself\u001b[0m\u001b[0;34m.\u001b[0m\u001b[0misetitem\u001b[0m\u001b[0;34m(\u001b[0m\u001b[0mlocs\u001b[0m\u001b[0;34m,\u001b[0m \u001b[0mvalue\u001b[0m\u001b[0;34m)\u001b[0m\u001b[0;34m\u001b[0m\u001b[0;34m\u001b[0m\u001b[0m\n\u001b[1;32m   4457\u001b[0m \u001b[0;34m\u001b[0m\u001b[0m\n\u001b[1;32m   4458\u001b[0m         \u001b[0;32mif\u001b[0m \u001b[0mlen\u001b[0m\u001b[0;34m(\u001b[0m\u001b[0mvalue\u001b[0m\u001b[0;34m.\u001b[0m\u001b[0mcolumns\u001b[0m\u001b[0;34m)\u001b[0m \u001b[0;34m>\u001b[0m \u001b[0;36m1\u001b[0m\u001b[0;34m:\u001b[0m\u001b[0;34m\u001b[0m\u001b[0;34m\u001b[0m\u001b[0m\n\u001b[0;32m-> 4459\u001b[0;31m             raise ValueError(\n\u001b[0m\u001b[1;32m   4460\u001b[0m                 \u001b[0;34m\"Cannot set a DataFrame with multiple columns to the single \"\u001b[0m\u001b[0;34m\u001b[0m\u001b[0;34m\u001b[0m\u001b[0m\n\u001b[1;32m   4461\u001b[0m                 \u001b[0;34mf\"column {key}\"\u001b[0m\u001b[0;34m\u001b[0m\u001b[0;34m\u001b[0m\u001b[0m\n\u001b[1;32m   4462\u001b[0m             )\n",
      "\u001b[0;31mValueError\u001b[0m: Cannot set a DataFrame with multiple columns to the single column overlap_ratio"
     ]
    }
   ],
   "source": [
    "import os\n",
    "import numpy as np\n",
    "import geopandas as gpd\n",
    "from shapely.geometry import Polygon\n",
    "\n",
    "def get_latlon_corners(center_lat, center_lon, points, img_size=128, gsd=10):\n",
    "    latlons = []\n",
    "    for x, y in points:\n",
    "        dx = x - img_size / 2\n",
    "        dy = y - img_size / 2\n",
    "        dx_m = dx * gsd\n",
    "        dy_m = dy * gsd\n",
    "        dlat = dy_m / 111320\n",
    "        dlon = dx_m / (111320 * np.cos(np.deg2rad(center_lat)))\n",
    "        lat = center_lat + dlat\n",
    "        lon = center_lon + dlon\n",
    "        latlons.append((lon, lat))\n",
    "    return latlons\n",
    "\n",
    "folder = \"/home/rishabh.mondal/Brick-Kilns-project/ijcai_2025_kilns/data/processed_data/sentinel/final_data_neurips_2025/val/yolo_obb_labels\"\n",
    "data = []\n",
    "\n",
    "for fname in os.listdir(folder):\n",
    "    if fname.endswith('.txt'):\n",
    "        image_name = fname.replace('.txt', '.png')\n",
    "        lat_str, lon_str = image_name.replace('.png', '').split('_')\n",
    "        center_lat = float(lat_str)\n",
    "        center_lon = float(lon_str)\n",
    "        label_path = os.path.join(folder, fname)\n",
    "        with open(label_path, 'r') as f:\n",
    "            for line in f:\n",
    "                parts = line.strip().split()\n",
    "                if len(parts) != 9:\n",
    "                    continue\n",
    "                class_id = int(parts[0])\n",
    "                coords = list(map(float, parts[1:]))\n",
    "                points = np.array(coords).reshape(4,2) * 128\n",
    "                latlons = get_latlon_corners(center_lat, center_lon, points)\n",
    "                poly = Polygon(latlons)\n",
    "                data.append({\n",
    "                    'image_name': image_name,\n",
    "                    'class': class_id,\n",
    "                    'geometry': poly\n",
    "                })\n",
    "\n",
    "gdf_val = gpd.GeoDataFrame(data, crs=\"EPSG:4326\")\n",
    "\n",
    "# Spatial join using 'intersects'\n",
    "joined = gpd.sjoin(gdf_val, gdf_val, predicate='contains')\n",
    "\n",
    "# Remove self-joins\n",
    "joined = joined[joined.index != joined['index_right']]\n",
    "\n",
    "# Compute overlap: intersection area / min(poly1.area, poly2.area)\n",
    "def overlap_ratio(row):\n",
    "    poly1 = gdf_val.loc[row.name].geometry\n",
    "    poly2 = gdf_val.loc[row['index_right']].geometry\n",
    "    inter = poly1.intersection(poly2).area\n",
    "    min_area = min(poly1.area, poly2.area)\n",
    "    return inter / min_area if min_area > 0 else 0\n",
    "\n",
    "joined['overlap_ratio'] = joined.apply(overlap_ratio, axis=1)\n",
    "\n",
    "# Find indices of all polygons with >=30% overlap with any other\n",
    "common_idx = set(joined[joined['overlap_ratio'] >= 0.03].index) | set(joined[joined['overlap_ratio'] >= 0.3]['index_right'])\n",
    "gdf_val['group'] = 'unique'\n",
    "gdf_val.loc[list(common_idx), 'group'] = 'common'\n",
    "\n",
    "unique_gdf = gdf_val[gdf_val['group'] == 'unique']\n",
    "common_gdf = gdf_val[gdf_val['group'] == 'common']\n",
    "\n",
    "print(\"Unique geometries count:\", len(unique_gdf))\n",
    "print(\"Common geometries count:\", len(common_gdf))\n",
    "\n",
    "# Class-wise common geometry count\n",
    "classwise_common = common_gdf.groupby('class').size()\n",
    "print(\"Class-wise common geometries count:\")\n",
    "print(\"val set:\",classwise_common)\n"
   ]
  },
  {
   "cell_type": "code",
   "execution_count": 137,
   "id": "b58fc900",
   "metadata": {},
   "outputs": [
    {
     "name": "stdout",
     "output_type": "stream",
     "text": [
      "Common instances (≥30% overlap):\n",
      "Train/Val: 997\n",
      "Train/Test: 1050\n",
      "Val/Test: 337\n"
     ]
    }
   ],
   "source": [
    "import geopandas as gpd\n",
    "\n",
    "def find_common_indices(gdf1, gdf2, threshold=0.50):\n",
    "    join = gpd.sjoin(gdf1, gdf2, how='inner', predicate='intersects')\n",
    "    join = join[join.index != join['index_right']]\n",
    "    def ratio(row):\n",
    "        poly1 = gdf1.loc[row.name].geometry\n",
    "        poly2 = gdf2.loc[row['index_right']].geometry\n",
    "        inter = poly1.intersection(poly2).area\n",
    "        min_area = min(poly1.area, poly2.area)\n",
    "        return inter / min_area if min_area > 0 else 0\n",
    "    join['overlap_ratio'] = join.apply(ratio, axis=1)\n",
    "    return set(join[join['overlap_ratio'] >= threshold].index)\n",
    "\n",
    "train_val_common = find_common_indices(gdf_train, gdf_val)\n",
    "train_test_common = find_common_indices(gdf_train, gdf)\n",
    "val_test_common = find_common_indices(gdf_val, gdf)\n",
    "\n",
    "print(\"Common instances (≥30% overlap):\")\n",
    "print(f\"Train/Val: {len(train_val_common)}\")\n",
    "print(f\"Train/Test: {len(train_test_common)}\")\n",
    "print(f\"Val/Test: {len(val_test_common)}\")\n"
   ]
  },
  {
   "cell_type": "code",
   "execution_count": 125,
   "id": "09a74c0a",
   "metadata": {},
   "outputs": [
    {
     "name": "stdout",
     "output_type": "stream",
     "text": [
      "Instances common in all three splits: 2\n"
     ]
    }
   ],
   "source": [
    "common_in_all_three = train_val_common & train_test_common\n",
    "print(\"Instances common in all three splits:\", len(common_in_all_three))\n"
   ]
  },
  {
   "cell_type": "code",
   "execution_count": 256,
   "id": "090cda73",
   "metadata": {},
   "outputs": [],
   "source": [
    "import os\n",
    "import numpy as np\n",
    "import geopandas as gpd\n",
    "from shapely.geometry import Polygon\n",
    "import pandas as pd\n",
    "def get_latlon_corners(center_lat, center_lon, points, img_size=128, gsd=10):\n",
    "    latlons = []\n",
    "    for x, y in points:\n",
    "        dx = x - img_size / 2\n",
    "        dy = y - img_size / 2\n",
    "        dx_m = dx * gsd\n",
    "        dy_m = dy * gsd\n",
    "        dlat = dy_m / 111320\n",
    "        dlon = dx_m / (111320 * np.cos(np.deg2rad(center_lat)))\n",
    "        lat = center_lat + dlat\n",
    "        lon = center_lon + dlon\n",
    "        latlons.append((lon, lat))\n",
    "    return latlons\n",
    "\n",
    "def folder_to_gdf(folder, split):\n",
    "    data = []\n",
    "    for fname in os.listdir(folder):\n",
    "        if fname.endswith('.txt'):\n",
    "            image_name = fname.replace('.txt', '.png')\n",
    "            lat_str, lon_str = image_name.replace('.png', '').split('_')\n",
    "            center_lat = float(lat_str)\n",
    "            center_lon = float(lon_str)\n",
    "            label_path = os.path.join(folder, fname)\n",
    "            with open(label_path, 'r') as f:\n",
    "                for line in f:\n",
    "                    parts = line.strip().split()\n",
    "                    if len(parts) != 9:\n",
    "                        continue\n",
    "                    class_id = int(parts[0])\n",
    "                    coords = list(map(float, parts[1:]))\n",
    "                    points = np.array(coords).reshape(4,2) * 128\n",
    "                    latlons = get_latlon_corners(center_lat, center_lon, points)\n",
    "                    poly = Polygon(latlons)\n",
    "                    data.append({\n",
    "                        'image_name': image_name,\n",
    "                        'class': class_id,\n",
    "                        'geometry': poly,\n",
    "                        'split': split\n",
    "                    })\n",
    "    return gpd.GeoDataFrame(data, crs=\"EPSG:4326\")\n",
    "\n",
    "folders = {\n",
    "    \"train\": \"/home/rishabh.mondal/Brick-Kilns-project/ijcai_2025_kilns/data/processed_data/sentinel/final_data_neurips_2025/train/yolo_obb_labels\",\n",
    "    \"val\":   \"/home/rishabh.mondal/Brick-Kilns-project/ijcai_2025_kilns/data/processed_data/sentinel/final_data_neurips_2025/val/yolo_obb_labels\",\n",
    "    \"test\":  \"/home/rishabh.mondal/Brick-Kilns-project/ijcai_2025_kilns/data/processed_data/sentinel/final_data_neurips_2025/test/yolo_obb_labels\"\n",
    "}\n",
    "\n",
    "gdfs = [folder_to_gdf(folders[split], split) for split in [\"train\", \"val\", \"test\"]]\n",
    "gdf_all = gpd.GeoDataFrame(pd.concat(gdfs, ignore_index=True), crs=\"EPSG:4326\")\n",
    "\n",
    "\n"
   ]
  },
  {
   "cell_type": "code",
   "execution_count": 257,
   "id": "a6e6d88f",
   "metadata": {},
   "outputs": [
    {
     "name": "stdout",
     "output_type": "stream",
     "text": [
      "0         POLYGON ((74.03297 29.64058, 74.033 29.6395, 7...\n",
      "1         POLYGON ((74.03439 29.63623, 74.03505 29.63621...\n",
      "2         POLYGON ((85.01144 24.85198, 85.0117 24.85117,...\n",
      "3         POLYGON ((89.49756 23.73071, 89.49789 23.73065...\n",
      "4         POLYGON ((73.38709 31.47457, 73.38792 31.47408...\n",
      "                                ...                        \n",
      "105924    POLYGON ((81.49361 27.76389, 81.49459 27.76338...\n",
      "105925    POLYGON ((77.27013 29.66882, 77.27055 29.6685,...\n",
      "105926    POLYGON ((88.62826 25.97504, 88.62855 25.97441...\n",
      "105927    POLYGON ((80.31166 27.43625, 80.31214 27.4354,...\n",
      "105928    POLYGON ((76.10835 27.75302, 76.10855 27.75261...\n",
      "Name: geometry, Length: 105929, dtype: geometry\n"
     ]
    }
   ],
   "source": [
    "print(gdf_all[\"geometry\"])"
   ]
  },
  {
   "cell_type": "code",
   "execution_count": 258,
   "id": "3a9ec559",
   "metadata": {},
   "outputs": [
    {
     "data": {
      "image/svg+xml": [
       "<svg xmlns=\"http://www.w3.org/2000/svg\" xmlns:xlink=\"http://www.w3.org/1999/xlink\" width=\"100.0\" height=\"100.0\" viewBox=\"74.03231451658601 29.639443682759612 0.0007243266844625396 0.0011787530578466487\" preserveAspectRatio=\"xMinYMin meet\"><g transform=\"matrix(1,0,0,-1,0,59.28006611857707)\"><path fill-rule=\"evenodd\" fill=\"#66cc99\" stroke=\"#555555\" stroke-width=\"2.3575061156932976e-05\" opacity=\"0.6\" d=\"M 74.03297006353037,29.6405787782968 L 74.03299518574981,29.63949527416457 L 74.03238328309693,29.639487340280272 L 74.03235817410668,29.6405708444125 L 74.03297006353037,29.6405787782968 z\" /></g></svg>"
      ],
      "text/plain": [
       "<POLYGON ((74.033 29.641, 74.033 29.639, 74.032 29.639, 74.032 29.641, 74.03...>"
      ]
     },
     "execution_count": 258,
     "metadata": {},
     "output_type": "execute_result"
    }
   ],
   "source": [
    "gdf_all.geometry[0]"
   ]
  },
  {
   "cell_type": "code",
   "execution_count": 259,
   "id": "b83ab26d",
   "metadata": {},
   "outputs": [
    {
     "data": {
      "image/svg+xml": [
       "<svg xmlns=\"http://www.w3.org/2000/svg\" xmlns:xlink=\"http://www.w3.org/1999/xlink\" width=\"100.0\" height=\"100.0\" viewBox=\"74.03426999874871 29.63497688198347 0.0008306552785626309 0.0013042022565592504\" preserveAspectRatio=\"xMinYMin meet\"><g transform=\"matrix(1,0,0,-1,0,59.2712579662235)\"><path fill-rule=\"evenodd\" fill=\"#66cc99\" stroke=\"#555555\" stroke-width=\"2.6084045131185006e-05\" opacity=\"0.6\" d=\"M 74.03439136731637,29.636232780452747 L 74.03505235024,29.636208955803088 L 74.03497928545961,29.63502518577075 L 74.034318302536,29.635048010061084 L 74.03439136731637,29.636232780452747 z\" /></g></svg>"
      ],
      "text/plain": [
       "<POLYGON ((74.034 29.636, 74.035 29.636, 74.035 29.635, 74.034 29.635, 74.03...>"
      ]
     },
     "execution_count": 259,
     "metadata": {},
     "output_type": "execute_result"
    }
   ],
   "source": [
    "gdf_all.geometry[1]"
   ]
  },
  {
   "cell_type": "code",
   "execution_count": 260,
   "id": "60c9f7be",
   "metadata": {},
   "outputs": [
    {
     "data": {
      "image/png": "[encoded data removed]",
      "text/plain": [
       "<Figure size 640x480 with 1 Axes>"
      ]
     },
     "metadata": {},
     "output_type": "display_data"
    }
   ],
   "source": [
    "import matplotlib.pyplot as plt\n",
    "\n",
    "sindex = gdf_all.sindex  # Ensure sindex is built\n",
    "overlap_areas = []\n",
    "for idx, geom in enumerate(gdf_all.geometry):\n",
    "    possible_matches = list(sindex.intersection(geom.bounds))\n",
    "    for other_idx in possible_matches:\n",
    "        if other_idx == idx:\n",
    "            continue\n",
    "        other_geom = gdf_all.geometry.iloc[other_idx]\n",
    "        if geom.intersects(other_geom):\n",
    "            intersection_area = geom.intersection(other_geom).area\n",
    "            min_area = min(geom.area, other_geom.area)\n",
    "            if min_area > 0:\n",
    "                overlap_areas.append(intersection_area / min_area)\n",
    "\n",
    "plt.hist(overlap_areas, bins=30)\n",
    "plt.xlabel('Intersection / min_area')\n",
    "plt.ylabel('Count')\n",
    "plt.title('Histogram of overlaps')\n",
    "plt.show()\n"
   ]
  },
  {
   "cell_type": "code",
   "execution_count": 261,
   "id": "beb9c265",
   "metadata": {},
   "outputs": [
    {
     "name": "stdout",
     "output_type": "stream",
     "text": [
      "Count of 'common' (touching/overlapping) geometries: 32020\n",
      "Count of 'unique' geometries: 73909\n"
     ]
    }
   ],
   "source": [
    "import geopandas as gpd\n",
    "\n",
    "gdf = gdf_all.reset_index(drop=True)\n",
    "sindex = gdf.sindex\n",
    "common_idx = set()\n",
    "\n",
    "# Threshold very close to zero for \"any touch\"\n",
    "OVERLAP_THRESH = 1e-6\n",
    "\n",
    "for idx, geom in enumerate(gdf.geometry):\n",
    "    possible_matches = list(sindex.intersection(geom.bounds))\n",
    "    for other_idx in possible_matches:\n",
    "        if other_idx == idx:\n",
    "            continue\n",
    "        other_geom = gdf.geometry.iloc[other_idx]\n",
    "        if geom.intersects(other_geom):\n",
    "            intersection_area = geom.intersection(other_geom).area\n",
    "            min_area = min(geom.area, other_geom.area)\n",
    "            if min_area > 0 and intersection_area / min_area > OVERLAP_THRESH:\n",
    "                common_idx.add(idx)\n",
    "                common_idx.add(other_idx)\n",
    "            elif intersection_area == 0 and geom.touches(other_geom):\n",
    "                # Also count as common if they just touch (area==0, but boundaries touch)\n",
    "                common_idx.add(idx)\n",
    "                common_idx.add(other_idx)\n",
    "\n",
    "gdf['group'] = 'unique'\n",
    "gdf.loc[list(common_idx), 'group'] = 'common'\n",
    "\n",
    "print(\"Count of 'common' (touching/overlapping) geometries:\", (gdf['group'] == 'common').sum())\n",
    "print(\"Count of 'unique' geometries:\", (gdf['group'] == 'unique').sum())\n"
   ]
  },
  {
   "cell_type": "code",
   "execution_count": 262,
   "id": "c3fff2c1",
   "metadata": {},
   "outputs": [
    {
     "name": "stdout",
     "output_type": "stream",
     "text": [
      "Number of unique geometries: 105929\n"
     ]
    }
   ],
   "source": [
    "unique_geoms = gdf_all.geometry.drop_duplicates()\n",
    "print(f\"Number of unique geometries: {len(unique_geoms)}\")\n"
   ]
  },
  {
   "cell_type": "code",
   "execution_count": 263,
   "id": "bca695c4",
   "metadata": {},
   "outputs": [
    {
     "name": "stdout",
     "output_type": "stream",
     "text": [
      "Count of 'common' (buffered, touching/overlapping): 43256\n",
      "Count of 'unique' (buffered): 62673\n"
     ]
    }
   ],
   "source": [
    "import geopandas as gpd\n",
    "\n",
    "# Make a buffer of 0.5 meter around each geometry (requires projected CRS, not EPSG:4326)\n",
    "# Project to UTM (auto) for metric units\n",
    "gdf_proj = gdf_all.to_crs(gdf_all.estimate_utm_crs())\n",
    "gdf_proj['buffered'] = gdf_proj.geometry.buffer(16.033)  # 0.5 meter buffer\n",
    "\n",
    "# Use buffered geometries for overlap analysis\n",
    "sindex = gdf_proj['buffered'].sindex\n",
    "common_idx = set()\n",
    "\n",
    "for idx, geom in enumerate(gdf_proj['buffered']):\n",
    "    possible_matches = list(sindex.intersection(geom.bounds))\n",
    "    for other_idx in possible_matches:\n",
    "        if other_idx == idx:\n",
    "            continue\n",
    "        other_geom = gdf_proj['buffered'].iloc[other_idx]\n",
    "        if geom.intersects(other_geom):\n",
    "            intersection_area = geom.intersection(other_geom).area\n",
    "            min_area = min(geom.area, other_geom.area)\n",
    "            if min_area > 0 and intersection_area / min_area > 1e-6:\n",
    "                common_idx.add(idx)\n",
    "                common_idx.add(other_idx)\n",
    "            elif intersection_area == 0 and geom.touches(other_geom):\n",
    "                common_idx.add(idx)\n",
    "                common_idx.add(other_idx)\n",
    "\n",
    "gdf_all['grouped'] = 'unique'\n",
    "gdf_all.loc[list(common_idx), 'grouped'] = 'common'\n",
    "\n",
    "print(\"Count of 'common' (buffered, touching/overlapping):\", (gdf_all['grouped'] == 'common').sum())\n",
    "print(\"Count of 'unique' (buffered):\", (gdf_all['grouped'] == 'unique').sum())\n"
   ]
  },
  {
   "cell_type": "code",
   "execution_count": 264,
   "id": "362d4d3b",
   "metadata": {},
   "outputs": [
    {
     "name": "stdout",
     "output_type": "stream",
     "text": [
      "grouped  common  unique\n",
      "class                  \n",
      "0          1573    1755\n",
      "1         22565   34378\n",
      "2         19118   26540\n",
      "\n",
      "Column-wise sum:\n",
      "grouped\n",
      "common    43256\n",
      "unique    62673\n",
      "dtype: int64\n"
     ]
    }
   ],
   "source": [
    "class_counts = gdf_all.groupby(['class', 'grouped']).size().unstack(fill_value=0)\n",
    "print(class_counts)\n",
    "print(\"\\nColumn-wise sum:\")\n",
    "print(class_counts.sum(axis=0))\n"
   ]
  },
  {
   "cell_type": "code",
   "execution_count": 265,
   "id": "bae00eca",
   "metadata": {},
   "outputs": [
    {
     "name": "stdout",
     "output_type": "stream",
     "text": [
      "grouped  split  class  common  unique\n",
      "0         test      0     304     343\n",
      "1         test      1    4391    6921\n",
      "2         test      2    3890    5251\n",
      "3        train      0     951    1081\n",
      "4        train      1   13666   20626\n",
      "5        train      2   11450   16013\n",
      "6          val      0     318     331\n",
      "7          val      1    4508    6831\n",
      "8          val      2    3778    5276\n",
      "\n",
      "train/test class-wise common/unique:\n",
      "grouped  class  common  unique\n",
      "0            0    1255    1424\n",
      "1            1   18057   27547\n",
      "2            2   15340   21264\n",
      "\n",
      "train/val class-wise common/unique:\n",
      "grouped  class  common  unique\n",
      "0            0    1269    1412\n",
      "1            1   18174   27457\n",
      "2            2   15228   21289\n",
      "\n",
      "test/val class-wise common/unique:\n",
      "grouped  class  common  unique\n",
      "0            0     622     674\n",
      "1            1    8899   13752\n",
      "2            2    7668   10527\n"
     ]
    }
   ],
   "source": [
    "# Class-wise, split-wise common/unique counts\n",
    "result = (\n",
    "    gdf_all.groupby(['split', 'class', 'grouped'])\n",
    "    .size()\n",
    "    .unstack(fill_value=0)\n",
    "    .reset_index()\n",
    "    .sort_values(['split', 'class'])\n",
    ")\n",
    "print(result)\n",
    "\n",
    "# For train vs test common/unique:\n",
    "train = gdf_all[gdf_all['split'] == 'train']\n",
    "test = gdf_all[gdf_all['split'] == 'test']\n",
    "val = gdf_all[gdf_all['split'] == 'val']\n",
    "\n",
    "# Combine as needed for (train, test), (train, val), (test, val)\n",
    "for name, g1, g2 in [\n",
    "    (\"train/test\", train, test),\n",
    "    (\"train/val\", train, val),\n",
    "    (\"test/val\", test, val)\n",
    "]:\n",
    "    both = pd.concat([g1, g2], ignore_index=True)\n",
    "    cross_counts = (\n",
    "        both.groupby(['class', 'grouped'])\n",
    "        .size()\n",
    "        .unstack(fill_value=0)\n",
    "        .reset_index()\n",
    "        .sort_values('class')\n",
    "    )\n",
    "    print(f\"\\n{name} class-wise common/unique:\")\n",
    "    print(cross_counts)\n"
   ]
  },
  {
   "cell_type": "code",
   "execution_count": null,
   "id": "d546e087",
   "metadata": {},
   "outputs": [],
   "source": []
  },
  {
   "cell_type": "code",
   "execution_count": null,
   "id": "eb983d3b",
   "metadata": {},
   "outputs": [],
   "source": []
  },
  {
   "cell_type": "code",
   "execution_count": null,
   "id": "64df57a7",
   "metadata": {},
   "outputs": [],
   "source": []
  },
  {
   "cell_type": "code",
   "execution_count": 211,
   "id": "d03478f0",
   "metadata": {},
   "outputs": [
    {
     "name": "stdout",
     "output_type": "stream",
     "text": [
      "Common geometries (touch or overlap >0.0%): 32015\n",
      "Unique geometries: 73914\n"
     ]
    }
   ],
   "source": [
    "import geopandas as gpd\n",
    "\n",
    "gdf = gdf_all.reset_index(drop=True)\n",
    "sindex = gdf.sindex\n",
    "common_idx = set()\n",
    "\n",
    "OVERLAP_THRESH = 0.00001  # Counts even the tiniest overlap as common\n",
    "\n",
    "for idx, geom in enumerate(gdf.geometry):\n",
    "    possible_matches = list(sindex.intersection(geom.bounds))\n",
    "    for other_idx in possible_matches:\n",
    "        if other_idx == idx:\n",
    "            continue\n",
    "        other_geom = gdf.geometry.iloc[other_idx]\n",
    "        if geom.intersects(other_geom):\n",
    "            intersection_area = geom.intersection(other_geom).area\n",
    "            min_area = min(geom.area, other_geom.area)\n",
    "            # If touching (area=0 but intersects) or small overlap\n",
    "            if intersection_area > 0 and min_area > 0:\n",
    "                if intersection_area / min_area > OVERLAP_THRESH:\n",
    "                    common_idx.add(idx)\n",
    "                    common_idx.add(other_idx)\n",
    "            elif intersection_area == 0 and geom.touches(other_geom):\n",
    "                common_idx.add(idx)\n",
    "                common_idx.add(other_idx)\n",
    "\n",
    "gdf['group'] = 'unique'\n",
    "gdf.loc[list(common_idx), 'group'] = 'common'\n",
    "\n",
    "print(f\"Common geometries (touch or overlap >{OVERLAP_THRESH*100:.1f}%):\", (gdf['group'] == 'common').sum())\n",
    "print(f\"Unique geometries:\", (gdf['group'] == 'unique').sum())\n"
   ]
  },
  {
   "cell_type": "code",
   "execution_count": 203,
   "id": "11f40637",
   "metadata": {},
   "outputs": [
    {
     "name": "stdout",
     "output_type": "stream",
     "text": [
      "before 105929\n",
      "Number of unique geometries after dropping duplicates: 105929\n"
     ]
    }
   ],
   "source": [
    "print(\"before\",len(gdf_all))\n",
    "\n",
    "gdf_unique = gdf_all.drop_duplicates(subset='geometry')\n",
    "print(f\"Number of unique geometries after dropping duplicates: {len(gdf_unique)}\")\n"
   ]
  },
  {
   "cell_type": "code",
   "execution_count": 208,
   "id": "bee2fc9b",
   "metadata": {},
   "outputs": [
    {
     "name": "stdout",
     "output_type": "stream",
     "text": [
      "Number of unique geometries after near-duplicate deduplication: 105916\n"
     ]
    }
   ],
   "source": [
    "import numpy as np\n",
    "from shapely.geometry import Polygon\n",
    "\n",
    "# Threshold for \"almost equal\" area overlap\n",
    "THRESH = 0.999\n",
    "\n",
    "gdf = gdf_all.reset_index(drop=True)\n",
    "sindex = gdf.sindex\n",
    "deduped_idx = set()\n",
    "visited = set()\n",
    "\n",
    "for idx, geom in enumerate(gdf.geometry):\n",
    "    if idx in visited:\n",
    "        continue\n",
    "    matches = list(sindex.intersection(geom.bounds))\n",
    "    group = []\n",
    "    for other_idx in matches:\n",
    "        if other_idx == idx or other_idx in visited:\n",
    "            continue\n",
    "        other_geom = gdf.geometry.iloc[other_idx]\n",
    "        if geom.equals_exact(other_geom, tolerance=1e-6) or \\\n",
    "           (geom.intersection(other_geom).area / geom.union(other_geom).area > THRESH):\n",
    "            group.append(other_idx)\n",
    "    visited.update(group)\n",
    "    visited.add(idx)\n",
    "    deduped_idx.add(idx)\n",
    "\n",
    "print(f\"Number of unique geometries after near-duplicate deduplication: {len(deduped_idx)}\")\n"
   ]
  },
  {
   "cell_type": "code",
   "execution_count": null,
   "id": "b1fce1b3",
   "metadata": {},
   "outputs": [],
   "source": []
  },
  {
   "cell_type": "code",
   "execution_count": 102,
   "id": "d12a1baf",
   "metadata": {},
   "outputs": [
    {
     "name": "stderr",
     "output_type": "stream",
     "text": [
      "/tmp/ipykernel_1370097/2467380969.py:2: UserWarning: Geometry is in a geographic CRS. Results from 'centroid' are likely incorrect. Use 'GeoSeries.to_crs()' to re-project geometries to a projected CRS before this operation.\n",
      "\n",
      "  gdf_all['center_lat'] = gdf_all.geometry.centroid.y\n",
      "/tmp/ipykernel_1370097/2467380969.py:3: UserWarning: Geometry is in a geographic CRS. Results from 'centroid' are likely incorrect. Use 'GeoSeries.to_crs()' to re-project geometries to a projected CRS before this operation.\n",
      "\n",
      "  gdf_all['center_lon'] = gdf_all.geometry.centroid.x\n"
     ]
    }
   ],
   "source": [
    "# Compute centroid lat/lon for each geometry and add columns\n",
    "gdf_all['center_lat'] = gdf_all.geometry.centroid.y\n",
    "gdf_all['center_lon'] = gdf_all.geometry.centroid.x\n"
   ]
  },
  {
   "cell_type": "code",
   "execution_count": 103,
   "id": "8a40a3ec",
   "metadata": {},
   "outputs": [
    {
     "data": {
      "text/html": [
       "<div>\n",
       "<style scoped>\n",
       "    .dataframe tbody tr th:only-of-type {\n",
       "        vertical-align: middle;\n",
       "    }\n",
       "\n",
       "    .dataframe tbody tr th {\n",
       "        vertical-align: top;\n",
       "    }\n",
       "\n",
       "    .dataframe thead th {\n",
       "        text-align: right;\n",
       "    }\n",
       "</style>\n",
       "<table border=\"1\" class=\"dataframe\">\n",
       "  <thead>\n",
       "    <tr style=\"text-align: right;\">\n",
       "      <th></th>\n",
       "      <th>image_name</th>\n",
       "      <th>class</th>\n",
       "      <th>geometry</th>\n",
       "      <th>split</th>\n",
       "      <th>center_lat</th>\n",
       "      <th>center_lon</th>\n",
       "      <th>center_point</th>\n",
       "      <th>center_in_other</th>\n",
       "    </tr>\n",
       "  </thead>\n",
       "  <tbody>\n",
       "    <tr>\n",
       "      <th>0</th>\n",
       "      <td>29.6379_74.0288.png</td>\n",
       "      <td>1</td>\n",
       "      <td>POLYGON ((74.03297 29.64058, 74.033 29.6395, 7...</td>\n",
       "      <td>train</td>\n",
       "      <td>29.640033</td>\n",
       "      <td>74.032677</td>\n",
       "      <td>POINT (74.03268 29.64003)</td>\n",
       "      <td>False</td>\n",
       "    </tr>\n",
       "    <tr>\n",
       "      <th>1</th>\n",
       "      <td>29.6379_74.0288.png</td>\n",
       "      <td>1</td>\n",
       "      <td>POLYGON ((74.03439 29.63623, 74.03505 29.63621...</td>\n",
       "      <td>train</td>\n",
       "      <td>29.635629</td>\n",
       "      <td>74.034685</td>\n",
       "      <td>POINT (74.03469 29.63563)</td>\n",
       "      <td>False</td>\n",
       "    </tr>\n",
       "    <tr>\n",
       "      <th>2</th>\n",
       "      <td>24.8540_85.0146.png</td>\n",
       "      <td>1</td>\n",
       "      <td>POLYGON ((85.01144 24.85198, 85.0117 24.85117,...</td>\n",
       "      <td>train</td>\n",
       "      <td>24.851527</td>\n",
       "      <td>85.011343</td>\n",
       "      <td>POINT (85.01134 24.85153)</td>\n",
       "      <td>False</td>\n",
       "    </tr>\n",
       "    <tr>\n",
       "      <th>3</th>\n",
       "      <td>23.7261_89.5030.png</td>\n",
       "      <td>2</td>\n",
       "      <td>POLYGON ((89.49756 23.73071, 89.49789 23.73065...</td>\n",
       "      <td>train</td>\n",
       "      <td>23.730404</td>\n",
       "      <td>89.497658</td>\n",
       "      <td>POINT (89.49766 23.7304)</td>\n",
       "      <td>False</td>\n",
       "    </tr>\n",
       "    <tr>\n",
       "      <th>4</th>\n",
       "      <td>31.4750_73.3851.png</td>\n",
       "      <td>1</td>\n",
       "      <td>POLYGON ((73.38709 31.47457, 73.38792 31.47408...</td>\n",
       "      <td>train</td>\n",
       "      <td>31.474171</td>\n",
       "      <td>73.387327</td>\n",
       "      <td>POINT (73.38733 31.47417)</td>\n",
       "      <td>False</td>\n",
       "    </tr>\n",
       "    <tr>\n",
       "      <th>...</th>\n",
       "      <td>...</td>\n",
       "      <td>...</td>\n",
       "      <td>...</td>\n",
       "      <td>...</td>\n",
       "      <td>...</td>\n",
       "      <td>...</td>\n",
       "      <td>...</td>\n",
       "      <td>...</td>\n",
       "    </tr>\n",
       "    <tr>\n",
       "      <th>105924</th>\n",
       "      <td>27.7644_81.4985.png</td>\n",
       "      <td>1</td>\n",
       "      <td>POLYGON ((81.49361 27.76389, 81.49459 27.76338...</td>\n",
       "      <td>test</td>\n",
       "      <td>27.763493</td>\n",
       "      <td>81.493980</td>\n",
       "      <td>POINT (81.49398 27.76349)</td>\n",
       "      <td>False</td>\n",
       "    </tr>\n",
       "    <tr>\n",
       "      <th>105925</th>\n",
       "      <td>29.6643_77.2661.png</td>\n",
       "      <td>2</td>\n",
       "      <td>POLYGON ((77.27013 29.66882, 77.27055 29.6685,...</td>\n",
       "      <td>test</td>\n",
       "      <td>29.668316</td>\n",
       "      <td>77.269871</td>\n",
       "      <td>POINT (77.26987 29.66832)</td>\n",
       "      <td>False</td>\n",
       "    </tr>\n",
       "    <tr>\n",
       "      <th>105926</th>\n",
       "      <td>25.9761_88.6232.png</td>\n",
       "      <td>2</td>\n",
       "      <td>POLYGON ((88.62826 25.97504, 88.62855 25.97441...</td>\n",
       "      <td>test</td>\n",
       "      <td>25.974662</td>\n",
       "      <td>88.628207</td>\n",
       "      <td>POINT (88.62821 25.97466)</td>\n",
       "      <td>False</td>\n",
       "    </tr>\n",
       "    <tr>\n",
       "      <th>105927</th>\n",
       "      <td>27.4379_80.3073.png</td>\n",
       "      <td>1</td>\n",
       "      <td>POLYGON ((80.31166 27.43625, 80.31214 27.4354,...</td>\n",
       "      <td>test</td>\n",
       "      <td>27.435737</td>\n",
       "      <td>80.311659</td>\n",
       "      <td>POINT (80.31166 27.43574)</td>\n",
       "      <td>False</td>\n",
       "    </tr>\n",
       "    <tr>\n",
       "      <th>105928</th>\n",
       "      <td>27.7556_76.1077.png</td>\n",
       "      <td>1</td>\n",
       "      <td>POLYGON ((76.10835 27.75302, 76.10855 27.75261...</td>\n",
       "      <td>test</td>\n",
       "      <td>27.752665</td>\n",
       "      <td>76.107921</td>\n",
       "      <td>POINT (76.10792 27.75267)</td>\n",
       "      <td>False</td>\n",
       "    </tr>\n",
       "  </tbody>\n",
       "</table>\n",
       "<p>105929 rows × 8 columns</p>\n",
       "</div>"
      ],
      "text/plain": [
       "                 image_name  class  \\\n",
       "0       29.6379_74.0288.png      1   \n",
       "1       29.6379_74.0288.png      1   \n",
       "2       24.8540_85.0146.png      1   \n",
       "3       23.7261_89.5030.png      2   \n",
       "4       31.4750_73.3851.png      1   \n",
       "...                     ...    ...   \n",
       "105924  27.7644_81.4985.png      1   \n",
       "105925  29.6643_77.2661.png      2   \n",
       "105926  25.9761_88.6232.png      2   \n",
       "105927  27.4379_80.3073.png      1   \n",
       "105928  27.7556_76.1077.png      1   \n",
       "\n",
       "                                                 geometry  split  center_lat  \\\n",
       "0       POLYGON ((74.03297 29.64058, 74.033 29.6395, 7...  train   29.640033   \n",
       "1       POLYGON ((74.03439 29.63623, 74.03505 29.63621...  train   29.635629   \n",
       "2       POLYGON ((85.01144 24.85198, 85.0117 24.85117,...  train   24.851527   \n",
       "3       POLYGON ((89.49756 23.73071, 89.49789 23.73065...  train   23.730404   \n",
       "4       POLYGON ((73.38709 31.47457, 73.38792 31.47408...  train   31.474171   \n",
       "...                                                   ...    ...         ...   \n",
       "105924  POLYGON ((81.49361 27.76389, 81.49459 27.76338...   test   27.763493   \n",
       "105925  POLYGON ((77.27013 29.66882, 77.27055 29.6685,...   test   29.668316   \n",
       "105926  POLYGON ((88.62826 25.97504, 88.62855 25.97441...   test   25.974662   \n",
       "105927  POLYGON ((80.31166 27.43625, 80.31214 27.4354,...   test   27.435737   \n",
       "105928  POLYGON ((76.10835 27.75302, 76.10855 27.75261...   test   27.752665   \n",
       "\n",
       "        center_lon               center_point  center_in_other  \n",
       "0        74.032677  POINT (74.03268 29.64003)            False  \n",
       "1        74.034685  POINT (74.03469 29.63563)            False  \n",
       "2        85.011343  POINT (85.01134 24.85153)            False  \n",
       "3        89.497658   POINT (89.49766 23.7304)            False  \n",
       "4        73.387327  POINT (73.38733 31.47417)            False  \n",
       "...            ...                        ...              ...  \n",
       "105924   81.493980  POINT (81.49398 27.76349)            False  \n",
       "105925   77.269871  POINT (77.26987 29.66832)            False  \n",
       "105926   88.628207  POINT (88.62821 25.97466)            False  \n",
       "105927   80.311659  POINT (80.31166 27.43574)            False  \n",
       "105928   76.107921  POINT (76.10792 27.75267)            False  \n",
       "\n",
       "[105929 rows x 8 columns]"
      ]
     },
     "execution_count": 103,
     "metadata": {},
     "output_type": "execute_result"
    }
   ],
   "source": [
    "gdf_all"
   ]
  },
  {
   "cell_type": "code",
   "execution_count": null,
   "id": "f2acd513",
   "metadata": {},
   "outputs": [],
   "source": []
  },
  {
   "cell_type": "code",
   "execution_count": null,
   "id": "b4b65891",
   "metadata": {},
   "outputs": [],
   "source": []
  },
  {
   "cell_type": "code",
   "execution_count": null,
   "id": "1c0dad07",
   "metadata": {},
   "outputs": [],
   "source": []
  },
  {
   "cell_type": "code",
   "execution_count": null,
   "id": "216b0a29",
   "metadata": {},
   "outputs": [],
   "source": []
  },
  {
   "cell_type": "code",
   "execution_count": 88,
   "id": "8bc80e86",
   "metadata": {},
   "outputs": [
    {
     "name": "stdout",
     "output_type": "stream",
     "text": [
      "Number of unique geometries (<10% overlap with any other): 73909\n",
      "Number of common geometries (≥10% overlap with any other): 32020\n"
     ]
    }
   ],
   "source": [
    "import geopandas as gpd\n",
    "\n",
    "gdf_all = gdf_all.reset_index(drop=True)\n",
    "sindex = gdf_all.sindex\n",
    "\n",
    "common_idx = set()\n",
    "\n",
    "for idx, geom in enumerate(gdf_all['geometry']):\n",
    "    # Candidates: possible overlaps using bounding boxes (fast)\n",
    "    possible_matches = list(sindex.intersection(geom.bounds))\n",
    "    possible_matches = [i for i in possible_matches if i != idx]\n",
    "    for i in possible_matches:\n",
    "        other_geom = gdf_all.at[i, 'geometry']\n",
    "        if not geom.intersects(other_geom):\n",
    "            continue\n",
    "        inter_area = geom.intersection(other_geom).area\n",
    "        min_area = min(geom.area, other_geom.area)\n",
    "        if min_area == 0:\n",
    "            continue\n",
    "        if inter_area / min_area > 0.000001:\n",
    "            common_idx.add(idx)\n",
    "            common_idx.add(i)\n",
    "\n",
    "gdf_all['group'] = 'unique'\n",
    "gdf_all.loc[list(common_idx), 'group'] = 'common'\n",
    "\n",
    "n_unique = (gdf_all['group'] == 'unique').sum()\n",
    "n_common = (gdf_all['group'] == 'common').sum()\n",
    "\n",
    "print(f\"Number of unique geometries (<10% overlap with any other): {n_unique}\")\n",
    "print(f\"Number of common geometries (≥10% overlap with any other): {n_common}\")\n"
   ]
  },
  {
   "cell_type": "code",
   "execution_count": 86,
   "id": "f010276d",
   "metadata": {},
   "outputs": [
    {
     "name": "stdout",
     "output_type": "stream",
     "text": [
      "Number of deduplicated bounding boxes: 92415\n"
     ]
    }
   ],
   "source": [
    "import geopandas as gpd\n",
    "\n",
    "gdf_all = gdf_all.reset_index(drop=True)\n",
    "sindex = gdf_all.sindex\n",
    "deduped_idx = set()\n",
    "visited = set()\n",
    "\n",
    "for idx, geom in enumerate(gdf_all['geometry']):\n",
    "    if idx in visited:\n",
    "        continue\n",
    "    # Find possible overlaps (fast bounding box filter)\n",
    "    possible_matches = list(sindex.intersection(geom.bounds))\n",
    "    overlaps = []\n",
    "    for i in possible_matches:\n",
    "        if i == idx or i in visited:\n",
    "            continue\n",
    "        other_geom = gdf_all.at[i, 'geometry']\n",
    "        if not geom.intersects(other_geom):\n",
    "            continue\n",
    "        inter_area = geom.intersection(other_geom).area\n",
    "        min_area = min(geom.area, other_geom.area)\n",
    "        if min_area == 0:\n",
    "            continue\n",
    "        if inter_area / min_area > 0.10:\n",
    "            overlaps.append(i)\n",
    "    # Mark all overlaps (including itself) as visited, keep only idx\n",
    "    visited.update(overlaps)\n",
    "    visited.add(idx)\n",
    "    deduped_idx.add(idx)\n",
    "\n",
    "deduped_gdf = gdf_all.loc[list(deduped_idx)].copy()\n",
    "deduped_gdf = deduped_gdf.reset_index(drop=True)\n",
    "\n",
    "print(f\"Number of deduplicated bounding boxes: {len(deduped_gdf)}\")\n"
   ]
  },
  {
   "cell_type": "code",
   "execution_count": null,
   "id": "48208729",
   "metadata": {},
   "outputs": [],
   "source": []
  },
  {
   "cell_type": "code",
   "execution_count": 70,
   "id": "970a8712",
   "metadata": {},
   "outputs": [
    {
     "name": "stdout",
     "output_type": "stream",
     "text": [
      "Number of unique image_name in gdf_all: 78690\n"
     ]
    }
   ],
   "source": [
    "\n",
    "n_unique_images = gdf_all['image_name'].nunique()\n",
    "print(f\"Number of unique image_name in gdf_all: {n_unique_images}\")\n"
   ]
  },
  {
   "cell_type": "code",
   "execution_count": 56,
   "id": "d2ee1c4f",
   "metadata": {},
   "outputs": [
    {
     "name": "stdout",
     "output_type": "stream",
     "text": [
      "Image names present in more than one split:\n",
      "[]\n"
     ]
    }
   ],
   "source": [
    "# List image_names with their splits\n",
    "img_split_counts = gdf_all.groupby('image_name')['split'].nunique()\n",
    "common_image_names = img_split_counts[img_split_counts > 1].index.tolist()\n",
    "\n",
    "print(\"Image names present in more than one split:\")\n",
    "print(common_image_names)\n"
   ]
  },
  {
   "cell_type": "code",
   "execution_count": 65,
   "id": "f07cefec",
   "metadata": {},
   "outputs": [],
   "source": [
    "# ...build gdf_all as in previous steps...\n",
    "\n",
    "# Spatial join (to find overlaps across splits)\n",
    "joined = gpd.sjoin(gdf_all, gdf_all, how='inner', predicate='intersects')\n",
    "joined = joined[joined.index != joined['index_right']]\n",
    "# joined = joined[joined['split'] != joined['split_right']]\n",
    "\n",
    "def overlap_ratio(row):\n",
    "    poly1 = gdf_all.loc[row.name].geometry\n",
    "    poly2 = gdf_all.loc[row['index_right']].geometry\n",
    "    inter = poly1.intersection(poly2).area\n",
    "    min_area = min(poly1.area, poly2.area)\n",
    "    return inter / min_area if min_area > 0 else 0\n",
    "\n",
    "joined['overlap_ratio'] = joined.apply(overlap_ratio, axis=1)\n",
    "common_idx = set(joined[joined['overlap_ratio'] >= 0.1].index)\n",
    "\n",
    "gdf_all['group'] = 'unique'\n",
    "gdf_all.loc[list(common_idx), 'group'] = 'common'\n"
   ]
  },
  {
   "cell_type": "code",
   "execution_count": 66,
   "id": "54104e52",
   "metadata": {},
   "outputs": [
    {
     "name": "stdout",
     "output_type": "stream",
     "text": [
      "26948\n"
     ]
    }
   ],
   "source": [
    "common_gdf = gdf_all[gdf_all['group'] == 'common']\n",
    "# print(common_gdf[['image_name', 'class', 'geometry']])\n",
    "print(len(common_gdf))\n"
   ]
  },
  {
   "cell_type": "code",
   "execution_count": 67,
   "id": "3d88b8f3",
   "metadata": {},
   "outputs": [
    {
     "name": "stdout",
     "output_type": "stream",
     "text": [
      "Train image-label pairs: 63810\n",
      "Test image-label pairs: 14882\n"
     ]
    }
   ],
   "source": [
    "import os\n",
    "\n",
    "# Define paths\n",
    "train_images_dir = \"/home/suruchi.hardaha/cosmos/ijcai_2025_data/symlinked_AA_DATA/train_afghanistan_bangladesh_india_test_pakistan/train/images\"\n",
    "train_labels_dir = \"/home/suruchi.hardaha/cosmos/ijcai_2025_data/symlinked_AA_DATA/train_afghanistan_bangladesh_india_test_pakistan/train/labels\"\n",
    "test_images_dir = \"/home/suruchi.hardaha/cosmos/ijcai_2025_data/symlinked_AA_DATA/train_afghanistan_bangladesh_india_test_pakistan/test/images\"\n",
    "test_labels_dir = \"/home/suruchi.hardaha/cosmos/ijcai_2025_data/symlinked_AA_DATA/train_afghanistan_bangladesh_india_test_pakistan/test/labels\"\n",
    "\n",
    "def collect_image_label_pairs(images_dir, labels_dir):\n",
    "    image_files = [f for f in os.listdir(images_dir) if f.endswith('.png') or f.endswith('.jpg')]\n",
    "    pairs = []\n",
    "    for img in image_files:\n",
    "        label = os.path.splitext(img)[0] + '.txt'\n",
    "        label_path = os.path.join(labels_dir, label)\n",
    "        img_path = os.path.join(images_dir, img)\n",
    "        if os.path.exists(label_path):\n",
    "            pairs.append((img_path, label_path))\n",
    "        else:\n",
    "            print(f\"Label missing for image: {img}\")\n",
    "    return pairs\n",
    "\n",
    "train_pairs = collect_image_label_pairs(train_images_dir, train_labels_dir)\n",
    "test_pairs = collect_image_label_pairs(test_images_dir, test_labels_dir)\n",
    "\n",
    "print(f\"Train image-label pairs: {len(train_pairs)}\")\n",
    "print(f\"Test image-label pairs: {len(test_pairs)}\")\n",
    "\n",
    "# Example access:\n",
    "# for img_path, label_path in train_pairs:\n",
    "#     print(img_path, label_path)\n"
   ]
  },
  {
   "cell_type": "code",
   "execution_count": 71,
   "id": "ccc9e24f",
   "metadata": {},
   "outputs": [
    {
     "name": "stdout",
     "output_type": "stream",
     "text": [
      "Total label entries in train: 85374\n",
      "Total label entries in test: 20559\n"
     ]
    }
   ],
   "source": [
    "import os\n",
    "\n",
    "def count_label_entries(label_dir):\n",
    "    total_entries = 0\n",
    "    file_counts = []\n",
    "    for fname in os.listdir(label_dir):\n",
    "        if fname.endswith('.txt'):\n",
    "            path = os.path.join(label_dir, fname)\n",
    "            with open(path, 'r') as f:\n",
    "                lines = f.readlines()\n",
    "                n = len(lines)\n",
    "                total_entries += n\n",
    "                file_counts.append((fname, n))\n",
    "    return total_entries, file_counts\n",
    "\n",
    "train_label_dir = \"/home/suruchi.hardaha/cosmos/ijcai_2025_data/symlinked_AA_DATA/train_afghanistan_bangladesh_india_test_pakistan/train/labels\"\n",
    "test_label_dir = \"/home/suruchi.hardaha/cosmos/ijcai_2025_data/symlinked_AA_DATA/train_afghanistan_bangladesh_india_test_pakistan/test/labels\"\n",
    "\n",
    "train_total, train_file_counts = count_label_entries(train_label_dir)\n",
    "test_total, test_file_counts = count_label_entries(test_label_dir)\n",
    "\n",
    "print(f\"Total label entries in train: {train_total}\")\n",
    "print(f\"Total label entries in test: {test_total}\")\n",
    "# Optional: print per file\n",
    "# print(train_file_counts)\n",
    "# print(test_file_counts)\n"
   ]
  },
  {
   "cell_type": "code",
   "execution_count": null,
   "id": "8596e6f7",
   "metadata": {},
   "outputs": [],
   "source": []
  }
 ],
 "metadata": {
  "kernelspec": {
   "display_name": "zeel_py310",
   "language": "python",
   "name": "python3"
  },
  "language_info": {
   "codemirror_mode": {
    "name": "ipython",
    "version": 3
   },
   "file_extension": ".py",
   "mimetype": "text/x-python",
   "name": "python",
   "nbconvert_exporter": "python",
   "pygments_lexer": "ipython3",
   "version": "3.10.15"
  }
 },
 "nbformat": 4,
 "nbformat_minor": 5
}
