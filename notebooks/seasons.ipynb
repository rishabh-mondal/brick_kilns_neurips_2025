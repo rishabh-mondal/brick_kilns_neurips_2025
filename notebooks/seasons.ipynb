{
 "cells": [
  {
   "cell_type": "code",
   "execution_count": 2,
   "id": "d9bc642a",
   "metadata": {},
   "outputs": [
    {
     "name": "stderr",
     "output_type": "stream",
     "text": [
      "Processing Season 1:   0%|          | 0/5184 [00:00<?, ?it/s]"
     ]
    },
    {
     "name": "stderr",
     "output_type": "stream",
     "text": [
      "Processing Season 1: 100%|██████████| 5184/5184 [00:09<00:00, 558.55it/s]\n",
      "Processing Season 2: 100%|██████████| 5184/5184 [00:09<00:00, 560.83it/s]\n",
      "Processing Season 3: 100%|██████████| 5184/5184 [00:09<00:00, 563.68it/s]\n",
      "Processing Season 4: 100%|██████████| 5184/5184 [00:09<00:00, 559.54it/s]"
     ]
    },
    {
     "name": "stdout",
     "output_type": "stream",
     "text": [
      "| Season   | Mean R | Mean G | Mean B | Std R | Std G | Std B |\n",
      "|----------|--------|--------|--------|--------|--------|--------|\n",
      "| Season 1 | 76.40 | 74.68 | 63.98 | 35.31 | 31.73 | 31.10 |\n",
      "| Season 2 | 89.17 | 79.77 | 69.00 | 41.85 | 35.83 | 34.78 |\n",
      "| Season 3 | 96.73 | 89.76 | 79.57 | 46.66 | 42.03 | 41.17 |\n",
      "| Season 4 | 90.11 | 86.25 | 77.93 | 39.09 | 34.59 | 32.71 |\n"
     ]
    },
    {
     "name": "stderr",
     "output_type": "stream",
     "text": [
      "\n"
     ]
    }
   ],
   "source": [
    "import os\n",
    "import cv2\n",
    "import numpy as np\n",
    "from glob import glob\n",
    "from tqdm import tqdm\n",
    "\n",
    "season_dirs = {\n",
    "    \"Season 1\": \"/home/rishabh.mondal/Brick-Kilns-project/ijcai_2025_kilns/data/processed_data/sentinel/lucknow_airshed/rgb\",\n",
    "    \"Season 2\": \"/home/rishabh.mondal/Brick-Kilns-project/ijcai_2025_kilns/data/processed_data/sentinel/seasons2_lucknow_airshed/images\",\n",
    "    \"Season 3\": \"/home/rishabh.mondal/Brick-Kilns-project/ijcai_2025_kilns/data/processed_data/sentinel/seasons3_lucknow_airshed/images\",\n",
    "    \"Season 4\": \"/home/rishabh.mondal/Brick-Kilns-project/ijcai_2025_kilns/data/processed_data/sentinel/seasons4_lucknow_airshed/images\",\n",
    "}\n",
    "\n",
    "results = {}\n",
    "\n",
    "for season, img_dir in season_dirs.items():\n",
    "    image_paths = glob(os.path.join(img_dir, \"*.png\")) + glob(os.path.join(img_dir, \"*.jpg\"))\n",
    "    means = []\n",
    "    stds = []\n",
    "\n",
    "    for path in tqdm(image_paths, desc=f\"Processing {season}\"):\n",
    "        img = cv2.imread(path)  # Reads in BGR\n",
    "        if img is None:\n",
    "            continue\n",
    "        img = cv2.cvtColor(img, cv2.COLOR_BGR2RGB)  # Convert to RGB\n",
    "        means.append(np.mean(img, axis=(0, 1)))      # RGB mean\n",
    "        stds.append(np.std(img, axis=(0, 1)))        # RGB std\n",
    "\n",
    "    season_mean = np.mean(means, axis=0)\n",
    "    season_std = np.mean(stds, axis=0)\n",
    "    results[season] = {\n",
    "        \"mean_rgb\": season_mean,\n",
    "        \"std_rgb\": season_std\n",
    "    }\n",
    "\n",
    "# Print the results in a markdown-style table\n",
    "print(\"| Season   | Mean R | Mean G | Mean B | Std R | Std G | Std B |\")\n",
    "print(\"|----------|--------|--------|--------|--------|--------|--------|\")\n",
    "for season, stats in results.items():\n",
    "    m = stats[\"mean_rgb\"]\n",
    "    s = stats[\"std_rgb\"]\n",
    "    print(f\"| {season} | {m[0]:.2f} | {m[1]:.2f} | {m[2]:.2f} | {s[0]:.2f} | {s[1]:.2f} | {s[2]:.2f} |\")\n"
   ]
  },
  {
   "cell_type": "code",
   "execution_count": 3,
   "id": "e902e2bc",
   "metadata": {},
   "outputs": [
    {
     "name": "stderr",
     "output_type": "stream",
     "text": [
      "Processing Season 1: 100%|██████████| 5184/5184 [00:26<00:00, 193.00it/s]\n",
      "Processing Season 2: 100%|██████████| 5184/5184 [00:27<00:00, 188.29it/s]\n",
      "Processing Season 3: 100%|██████████| 5184/5184 [00:27<00:00, 187.97it/s]\n",
      "Processing Season 4: 100%|██████████| 5184/5184 [00:27<00:00, 190.37it/s]"
     ]
    },
    {
     "name": "stdout",
     "output_type": "stream",
     "text": [
      "| Season  | Mean R | Mean G | Mean B | Std R | Std G | Std B | Colorfulness | Entropy | GLCM Contrast | Brightness | Edge Density |\n",
      "| ------- | ------ | ------ | ------ | ----- | ----- | ----- | ------------ | ------- | ------------- | ---------- | ------------ |\n",
      "| Winter | 76.40 | 74.68 | 63.98 | 35.31 | 31.73 | 31.10 | 16.87 | 6.95 | 225.32 | 74.27 | 0.2476 |\n",
      "| Pre | 89.17 | 79.77 | 69.00 | 41.85 | 35.83 | 34.78 | 20.20 | 7.17 | 290.22 | 80.99 | 0.2722 |\n",
      "| Monsoon | 96.73 | 89.76 | 79.57 | 46.66 | 42.03 | 41.17 | 16.80 | 7.31 | 353.00 | 90.51 | 0.2709 |\n",
      "| Post | 90.11 | 86.25 | 77.93 | 39.09 | 34.59 | 32.71 | 17.64 | 7.05 | 251.76 | 86.47 | 0.2443 |\n"
     ]
    },
    {
     "name": "stderr",
     "output_type": "stream",
     "text": [
      "\n"
     ]
    }
   ],
   "source": [
    "import os\n",
    "import cv2\n",
    "import numpy as np\n",
    "from glob import glob\n",
    "from tqdm import tqdm\n",
    "from skimage.measure import shannon_entropy\n",
    "from skimage.feature import graycomatrix, graycoprops\n",
    "from skimage.color import rgb2gray\n",
    "\n",
    "def colorfulness(img):\n",
    "    # Assumes img is RGB, uint8\n",
    "    rg = np.abs(img[..., 0].astype(np.float32) - img[..., 1].astype(np.float32))\n",
    "    yb = np.abs(0.5 * (img[..., 0].astype(np.float32) + img[..., 1].astype(np.float32)) - img[..., 2].astype(np.float32))\n",
    "    std_rg, std_yb = np.std(rg), np.std(yb)\n",
    "    mean_rg, mean_yb = np.mean(rg), np.mean(yb)\n",
    "    return np.sqrt(std_rg ** 2 + std_yb ** 2) + 0.3 * np.sqrt(mean_rg ** 2 + mean_yb ** 2)\n",
    "\n",
    "def edge_density(img):\n",
    "    edges = cv2.Canny(img, 100, 200)\n",
    "    return np.sum(edges > 0) / edges.size\n",
    "\n",
    "def glcm_contrast(img_gray):\n",
    "    # Reduce grayscale to 8 bits for GLCM\n",
    "    img_gray = (img_gray * 255).astype(np.uint8)\n",
    "    glcm = graycomatrix(img_gray, [1], [0], 256, symmetric=True, normed=True)\n",
    "    return graycoprops(glcm, 'contrast')[0, 0]\n",
    "\n",
    "season_names = {\n",
    "    \"Season 1\": \"Winter\",\n",
    "    \"Season 2\": \"Pre\",\n",
    "    \"Season 3\": \"Monsoon\",\n",
    "    \"Season 4\": \"Post\"\n",
    "}\n",
    "season_dirs = {\n",
    "    \"Season 1\": \"/home/rishabh.mondal/Brick-Kilns-project/ijcai_2025_kilns/data/processed_data/sentinel/lucknow_airshed/rgb\",\n",
    "    \"Season 2\": \"/home/rishabh.mondal/Brick-Kilns-project/ijcai_2025_kilns/data/processed_data/sentinel/seasons2_lucknow_airshed/images\",\n",
    "    \"Season 3\": \"/home/rishabh.mondal/Brick-Kilns-project/ijcai_2025_kilns/data/processed_data/sentinel/seasons3_lucknow_airshed/images\",\n",
    "    \"Season 4\": \"/home/rishabh.mondal/Brick-Kilns-project/ijcai_2025_kilns/data/processed_data/sentinel/seasons4_lucknow_airshed/images\",\n",
    "}\n",
    "\n",
    "results = {}\n",
    "\n",
    "for season, img_dir in season_dirs.items():\n",
    "    image_paths = glob(os.path.join(img_dir, \"*.png\")) + glob(os.path.join(img_dir, \"*.jpg\"))\n",
    "    means, stds = [], []\n",
    "    colorfulnesses, entropies, contrasts, brightnesses, edgedensities = [], [], [], [], []\n",
    "\n",
    "    for path in tqdm(image_paths, desc=f\"Processing {season}\"):\n",
    "        img = cv2.imread(path)\n",
    "        if img is None:\n",
    "            continue\n",
    "        img_rgb = cv2.cvtColor(img, cv2.COLOR_BGR2RGB)\n",
    "        means.append(np.mean(img_rgb, axis=(0, 1)))\n",
    "        stds.append(np.std(img_rgb, axis=(0, 1)))\n",
    "        colorfulnesses.append(colorfulness(img_rgb))\n",
    "        entropies.append(shannon_entropy(img_rgb))\n",
    "        img_gray = rgb2gray(img_rgb)\n",
    "        contrasts.append(glcm_contrast(img_gray))\n",
    "        brightnesses.append(np.mean(0.2126 * img_rgb[..., 0] + 0.7152 * img_rgb[..., 1] + 0.0722 * img_rgb[..., 2]))\n",
    "        edgedensities.append(edge_density(img_rgb))\n",
    "\n",
    "    results[season_names[season]] = {\n",
    "        \"mean_rgb\": np.mean(means, axis=0),\n",
    "        \"std_rgb\": np.mean(stds, axis=0),\n",
    "        \"colorfulness\": np.mean(colorfulnesses),\n",
    "        \"entropy\": np.mean(entropies),\n",
    "        \"glcm_contrast\": np.mean(contrasts),\n",
    "        \"brightness\": np.mean(brightnesses),\n",
    "        \"edge_density\": np.mean(edgedensities)\n",
    "    }\n",
    "\n",
    "# Print the results in a markdown-style table\n",
    "print(\"| Season  | Mean R | Mean G | Mean B | Std R | Std G | Std B | Colorfulness | Entropy | GLCM Contrast | Brightness | Edge Density |\")\n",
    "print(\"| ------- | ------ | ------ | ------ | ----- | ----- | ----- | ------------ | ------- | ------------- | ---------- | ------------ |\")\n",
    "for season, stats in results.items():\n",
    "    m, s = stats[\"mean_rgb\"], stats[\"std_rgb\"]\n",
    "    print(f\"| {season} | {m[0]:.2f} | {m[1]:.2f} | {m[2]:.2f} | \"\n",
    "          f\"{s[0]:.2f} | {s[1]:.2f} | {s[2]:.2f} | \"\n",
    "          f\"{stats['colorfulness']:.2f} | {stats['entropy']:.2f} | {stats['glcm_contrast']:.2f} | \"\n",
    "          f\"{stats['brightness']:.2f} | {stats['edge_density']:.4f} |\")\n"
   ]
  },
  {
   "cell_type": "code",
   "execution_count": null,
   "id": "e1e79bd8",
   "metadata": {},
   "outputs": [],
   "source": []
  }
 ],
 "metadata": {
  "kernelspec": {
   "display_name": "rishabh_sat",
   "language": "python",
   "name": "python3"
  },
  "language_info": {
   "codemirror_mode": {
    "name": "ipython",
    "version": 3
   },
   "file_extension": ".py",
   "mimetype": "text/x-python",
   "name": "python",
   "nbconvert_exporter": "python",
   "pygments_lexer": "ipython3",
   "version": "3.12.4"
  }
 },
 "nbformat": 4,
 "nbformat_minor": 5
}
