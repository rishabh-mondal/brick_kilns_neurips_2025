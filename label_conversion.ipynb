{
 "cells": [
  {
   "cell_type": "code",
   "execution_count": 4,
   "id": "7d95461f",
   "metadata": {},
   "outputs": [
    {
     "name": "stdout",
     "output_type": "stream",
     "text": [
      "Saved all AA labels to /home/rishabh.mondal/Brick-Kilns-project/ijcai_2025_kilns/data/processed_data/sentinel/delhi_airshed/aa_labels\n"
     ]
    }
   ],
   "source": [
    "import numpy as np\n",
    "import os\n",
    "from garuda.ops import obb_to_aa\n",
    "region = \"delhi_airshed\"\n",
    "obb_label_dir = f\"/home/rishabh.mondal/Brick-Kilns-project/ijcai_2025_kilns/data/processed_data/sentinel/{region}/obb_labels\"\n",
    "aa_label_dir = f\"/home/rishabh.mondal/Brick-Kilns-project/ijcai_2025_kilns/data/processed_data/sentinel/{region}/aa_labels\"\n",
    "\n",
    "# Create the output directory if it doesn't exist\n",
    "os.makedirs(aa_label_dir, exist_ok=True)\n",
    "\n",
    "# Process each OBB label file\n",
    "for filename in os.listdir(obb_label_dir):\n",
    "    if filename.endswith(\".txt\"):\n",
    "        obb_path = os.path.join(obb_label_dir, filename)\n",
    "        aa_path = os.path.join(aa_label_dir, filename)\n",
    "\n",
    "        # Read OBB label\n",
    "        obb_data = np.loadtxt(obb_path, ndmin=2)\n",
    "\n",
    "        # Convert to AA\n",
    "        aa_data = obb_to_aa(obb_data)\n",
    "\n",
    "        # Save AA label\n",
    "        np.savetxt(aa_path, aa_data) \n",
    "\n",
    "print(f\"Saved all AA labels to {aa_label_dir}\")\n"
   ]
  },
  {
   "cell_type": "code",
   "execution_count": null,
   "id": "cd0e112a",
   "metadata": {},
   "outputs": [],
   "source": []
  }
 ],
 "metadata": {
  "kernelspec": {
   "display_name": "zeel_py310",
   "language": "python",
   "name": "python3"
  },
  "language_info": {
   "codemirror_mode": {
    "name": "ipython",
    "version": 3
   },
   "file_extension": ".py",
   "mimetype": "text/x-python",
   "name": "python",
   "nbconvert_exporter": "python",
   "pygments_lexer": "ipython3",
   "version": "3.10.15"
  }
 },
 "nbformat": 4,
 "nbformat_minor": 5
}
