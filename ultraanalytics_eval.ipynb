{
 "cells": [
  {
   "cell_type": "code",
   "execution_count": 1,
   "metadata": {},
   "outputs": [],
   "source": [
    "# Config\n",
    "import torch\n",
    "import os\n",
    "# Basic\n",
    "import numpy as np\n",
    "import pandas as pd\n",
    "import matplotlib.pyplot as plt\n",
    "# Monitoring\n",
    "from tqdm.notebook import tqdm\n",
    "# IO\n",
    "from os.path import join, exists, basename, dirname, splitext, expanduser\n",
    "from glob import glob\n",
    "# Parallel processing\n",
    "from joblib import Parallel, delayed\n",
    "import re\n",
    "from PIL import Image\n",
    "import supervision as sv\n",
    "\n",
    "\n",
    "from supervision.metrics import MeanAveragePrecision\n",
    "\n",
    "\n",
    "from supervision.metrics.core import Metric, MetricTarget\n",
    "from tempfile import mkdtemp\n",
    "\n",
    "from tempfile import mkdtemp\n",
    "from ultralytics import RTDETR\n",
    "\n",
    "from ultralytics import YOLO\n"
   ]
  },
  {
   "cell_type": "code",
   "execution_count": 3,
   "metadata": {},
   "outputs": [],
   "source": [
    "# --- Configuration ---\n",
    "home_dir = \"/home/suruchi.hardaha/cosmos\"\n",
    "gt_image_dir = \"/home/suruchi.hardaha/cosmos/ijcai_2025_data/LOLO/images\"\n",
    "gt_obb_label_dir = \"/home/suruchi.hardaha/cosmos/ijcai_2025_data/LOLO/labels\"\n",
    "gt_aa_labels_dir = \"/home/suruchi.hardaha/cosmos/ijcai_2025_data/symlinked_AA_DATA/train_afghanistan_bangladesh_pakistan_test_india/test/labels\"\n",
    "task = \"obb\"\n",
    "conf = 0.05\n",
    "iou = 0.50\n",
    "imagsz = 128\n",
    "epochs = 100"
   ]
  },
  {
   "cell_type": "code",
   "execution_count": 4,
   "metadata": {},
   "outputs": [],
   "source": [
    "# /home/suruchihardaha/Active_learning/rishabh"
   ]
  },
  {
   "cell_type": "code",
   "execution_count": 5,
   "metadata": {},
   "outputs": [],
   "source": [
    "# --- Model paths dictionary ---\n",
    "models = {\n",
    "    \"yolo_11l_obb\": {\n",
    "        \"path\": f\"{home_dir}/ijcai_2025_data/runs/train_afg_ban_pak_test_ind/weights/best.pt\",\n",
    "        \"type\": \"YOLO\",\n",
    "        \"bbox_type\": \"obb\"\n",
    "    },\n",
    "    \"yolo_worldv2\": {\n",
    "        \"path\": f\"{home_dir}/ijcai_2025_data/runs_v2/train_afghanistan_bangladesh_pakistan_test_india/weights/best.pt\",\n",
    "        \"type\": \"YOLO\",\n",
    "        \"bbox_type\": \"aa\"\n",
    "    },\n",
    "    # \"yolo_12l_aa\": {\n",
    "    #     \"path\": f\"{home_dir}/runs_sentinel/detect/train_stratified_train_val_stratified_val__detect_yolo_v12-aa_128_64_100_val_True/weights/best.pt\",\n",
    "    #     \"type\": \"YOLO\",\n",
    "    #     \"bbox_type\": \"aa\"\n",
    "    # },\n",
    "    \"rtdetr\": {\n",
    "        \"path\": f\"{home_dir}/ijcai_2025_data/runs_rtdetr/train_afghanistan_bangladesh_pakistan_test_india/weights/best.pt\",\n",
    "        \"type\": \"RTDETR\",\n",
    "        \"bbox_type\": \"aa\"\n",
    "    }\n",
    "}"
   ]
  },
  {
   "cell_type": "code",
   "execution_count": 6,
   "metadata": {},
   "outputs": [
    {
     "name": "stdout",
     "output_type": "stream",
     "text": [
      "Data yml saved to /tmp/tmpm977_0qs/data.yml\n"
     ]
    }
   ],
   "source": [
    "# --- Dataset config ---\n",
    "data_yml_save_path = mkdtemp()\n",
    "data_yml = \"\"\"train: dummy\n",
    "val: dummy\n",
    "nc: 3\n",
    "names: [\"CFCBK\", \"FCBK\", \"Zigzag\"]\n",
    "\"\"\"\n",
    "data_yml_path = f\"{data_yml_save_path}/data.yml\"\n",
    "with open(data_yml_path, \"w\") as f:\n",
    "    f.write(data_yml)\n",
    "print(f\"Data yml saved to {data_yml_path}\")\n"
   ]
  },
  {
   "cell_type": "code",
   "execution_count": 7,
   "metadata": {},
   "outputs": [
    {
     "name": "stdout",
     "output_type": "stream",
     "text": [
      "\n",
      "Evaluating model: yolo_11l_obb\n",
      "Model path: /home/suruchi.hardaha/cosmos/ijcai_2025_data/runs/train_afg_ban_pak_test_ind/weights/best.pt\n",
      "Model type: YOLO\n",
      "Bounding box type: obb\n",
      "\n",
      "Evaluating model: yolo_worldv2\n",
      "Model path: /home/suruchi.hardaha/cosmos/ijcai_2025_data/runs_v2/train_afghanistan_bangladesh_pakistan_test_india/weights/best.pt\n",
      "Model type: YOLO\n",
      "Bounding box type: aa\n",
      "\n",
      "Evaluating model: rtdetr\n",
      "Model path: /home/suruchi.hardaha/cosmos/ijcai_2025_data/runs_rtdetr/train_afghanistan_bangladesh_pakistan_test_india/weights/best.pt\n",
      "Model type: RTDETR\n",
      "Bounding box type: aa\n"
     ]
    }
   ],
   "source": [
    "for model_key, model_info in models.items():\n",
    "    print(f\"\\nEvaluating model: {model_key}\")\n",
    "    model_type = model_info[\"type\"]\n",
    "    model_path = model_info[\"path\"]\n",
    "    assert exists(model_path), f\"Model path {model_path} does not exist.\"\n",
    "    bbox_type = model_info[\"bbox_type\"]\n",
    "    print(f\"Model path: {model_path}\")\n",
    "    print(f\"Model type: {model_type}\")\n",
    "    print(f\"Bounding box type: {bbox_type}\")"
   ]
  },
  {
   "cell_type": "markdown",
   "metadata": {},
   "source": []
  },
  {
   "cell_type": "code",
   "execution_count": 8,
   "metadata": {},
   "outputs": [
    {
     "name": "stdout",
     "output_type": "stream",
     "text": [
      "\n",
      "Evaluating model: yolo_11l_obb\n"
     ]
    },
    {
     "data": {
      "application/vnd.jupyter.widget-view+json": {
       "model_id": "34adff9a0de8426f953e84467841a19b",
       "version_major": 2,
       "version_minor": 0
      },
      "text/plain": [
       "  0%|          | 0/54470 [00:00<?, ?it/s]"
      ]
     },
     "metadata": {},
     "output_type": "display_data"
    },
    {
     "name": "stdout",
     "output_type": "stream",
     "text": [
      "target length: 54470, prediction length: 54470\n",
      "Formatted LaTeX row:\n",
      "yolo_11l_obb & 53.39 & 0.00 & 22.34 & 9.04 \\\\\n",
      "\n",
      "Evaluating model: yolo_worldv2\n"
     ]
    },
    {
     "data": {
      "application/vnd.jupyter.widget-view+json": {
       "model_id": "556b35ba03f14dbebfe400a96614fb58",
       "version_major": 2,
       "version_minor": 0
      },
      "text/plain": [
       "  0%|          | 0/54470 [00:00<?, ?it/s]"
      ]
     },
     "metadata": {},
     "output_type": "display_data"
    },
    {
     "name": "stdout",
     "output_type": "stream",
     "text": [
      "target length: 54470, prediction length: 54470\n",
      "Formatted LaTeX row:\n",
      "yolo_worldv2 & 58.94 & 0.00 & 25.66 & 14.02 \\\\\n",
      "\n",
      "Evaluating model: rtdetr\n"
     ]
    },
    {
     "data": {
      "application/vnd.jupyter.widget-view+json": {
       "model_id": "0753852f10a94c1296aba14a71d351f1",
       "version_major": 2,
       "version_minor": 0
      },
      "text/plain": [
       "  0%|          | 0/54470 [00:00<?, ?it/s]"
      ]
     },
     "metadata": {},
     "output_type": "display_data"
    },
    {
     "name": "stdout",
     "output_type": "stream",
     "text": [
      "target length: 54470, prediction length: 54470\n",
      "Formatted LaTeX row:\n",
      "rtdetr & 57.63 & 0.00 & 23.84 & 14.43 \\\\\n"
     ]
    }
   ],
   "source": [
    "# --- Evaluation loop ---\n",
    "for model_key, model_info in models.items():\n",
    "    print(f\"\\nEvaluating model: {model_key}\")\n",
    "    model_type = model_info[\"type\"]\n",
    "    model_path = model_info[\"path\"]\n",
    "\n",
    "    # Determine dataset type from key\n",
    "    is_obb = \"obb\" in model_key.lower()\n",
    "    label_dir = gt_obb_label_dir if is_obb else gt_aa_labels_dir\n",
    "\n",
    "    # Load the appropriate dataset\n",
    "    sv_dataset = sv.DetectionDataset.from_yolo(gt_image_dir, label_dir, data_yml_path, is_obb=is_obb)\n",
    "\n",
    "    # Load model\n",
    "    if model_type.upper() == \"YOLO\":\n",
    "        model = YOLO(model_path)\n",
    "    else:\n",
    "        model = RTDETR(model_path)\n",
    "\n",
    "    targets, predictions = [], []\n",
    "\n",
    "    for name, _, gt_detection in tqdm(sv_dataset):\n",
    "        result = model(\n",
    "            name,\n",
    "            imgsz=imagsz,\n",
    "            iou=iou,\n",
    "            conf=conf,\n",
    "            exist_ok=True,\n",
    "            save_txt=False,\n",
    "            max_det=300,\n",
    "            verbose=False\n",
    "        )[0]\n",
    "        sv_detection = sv.Detections.from_ultralytics(result)\n",
    "        targets.append(gt_detection)\n",
    "        predictions.append(sv_detection)\n",
    "\n",
    "    print(f\"target length: {len(targets)}, prediction length: {len(predictions)}\")\n",
    "\n",
    "    # --- Class-wise mAP ---\n",
    "    mAP_metric = MeanAveragePrecision(class_agnostic=False)\n",
    "    mAP_result = mAP_metric.update(predictions, targets).compute()\n",
    "\n",
    "    class_wise_mAP = mAP_result.ap_per_class[:, 0].tolist()\n",
    "    matched_classes = mAP_result.matched_classes.tolist()\n",
    "\n",
    "    final_class_wise_mAP = [0] * 3\n",
    "    for cls, mAP in zip(matched_classes, class_wise_mAP):\n",
    "        final_class_wise_mAP[cls] = mAP\n",
    "\n",
    "    # --- CA-mAP (class agnostic) ---\n",
    "    mAP_metric = MeanAveragePrecision(class_agnostic=True)\n",
    "    mAP_result = mAP_metric.update(predictions, targets).compute()\n",
    "    ca_map_50 = mAP_result.map50\n",
    "\n",
    "    # --- Format output ---\n",
    "    final_class_wise_mAP_percentage = [round(m * 100, 2) for m in final_class_wise_mAP]\n",
    "    ca_map_50_percentage = round(ca_map_50 * 100, 2)\n",
    "    formatted_output = f\"{model_key} & {ca_map_50_percentage:.2f}\" + \" & \" + \" & \".join([f\"{val:.2f}\" for val in final_class_wise_mAP_percentage]) + \" \\\\\\\\\"\n",
    "\n",
    "    print(\"Formatted LaTeX row:\")\n",
    "    print(formatted_output)"
   ]
  },
  {
   "cell_type": "code",
   "execution_count": null,
   "metadata": {},
   "outputs": [],
   "source": []
  },
  {
   "cell_type": "code",
   "execution_count": null,
   "metadata": {},
   "outputs": [],
   "source": []
  }
 ],
 "metadata": {
  "kernelspec": {
   "display_name": "rishabh_sat",
   "language": "python",
   "name": "python3"
  },
  "language_info": {
   "codemirror_mode": {
    "name": "ipython",
    "version": 3
   },
   "file_extension": ".py",
   "mimetype": "text/x-python",
   "name": "python",
   "nbconvert_exporter": "python",
   "pygments_lexer": "ipython3",
   "version": "3.12.4"
  }
 },
 "nbformat": 4,
 "nbformat_minor": 2
}
